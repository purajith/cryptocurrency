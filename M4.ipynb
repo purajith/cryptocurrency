{
 "cells": [
  {
   "cell_type": "markdown",
   "id": "c0b37765",
   "metadata": {},
   "source": [
    "# M4_High-model"
   ]
  },
  {
   "cell_type": "code",
   "execution_count": 1,
   "id": "76b861bf",
   "metadata": {},
   "outputs": [],
   "source": [
    "import pandas as pd\n",
    "import numpy as np\n",
    "import seaborn as sns \n",
    "import matplotlib.pyplot as plt "
   ]
  },
  {
   "cell_type": "code",
   "execution_count": 2,
   "id": "c952eb6e",
   "metadata": {},
   "outputs": [],
   "source": [
    "import warnings\n",
    "warnings.filterwarnings(\"ignore\")"
   ]
  },
  {
   "cell_type": "code",
   "execution_count": 3,
   "id": "8b7b5ffa",
   "metadata": {},
   "outputs": [],
   "source": [
    "data =pd.read_csv(\"Crypto_data2.csv\")"
   ]
  },
  {
   "cell_type": "code",
   "execution_count": 4,
   "id": "f3fd57c3",
   "metadata": {},
   "outputs": [
    {
     "data": {
      "text/html": [
       "<div>\n",
       "<style scoped>\n",
       "    .dataframe tbody tr th:only-of-type {\n",
       "        vertical-align: middle;\n",
       "    }\n",
       "\n",
       "    .dataframe tbody tr th {\n",
       "        vertical-align: top;\n",
       "    }\n",
       "\n",
       "    .dataframe thead th {\n",
       "        text-align: right;\n",
       "    }\n",
       "</style>\n",
       "<table border=\"1\" class=\"dataframe\">\n",
       "  <thead>\n",
       "    <tr style=\"text-align: right;\">\n",
       "      <th></th>\n",
       "      <th>Unnamed: 0</th>\n",
       "      <th>Date</th>\n",
       "      <th>Open</th>\n",
       "      <th>High</th>\n",
       "      <th>Low</th>\n",
       "      <th>Close</th>\n",
       "      <th>Adj Close</th>\n",
       "      <th>Volume</th>\n",
       "      <th>Crypto</th>\n",
       "    </tr>\n",
       "  </thead>\n",
       "  <tbody>\n",
       "    <tr>\n",
       "      <th>0</th>\n",
       "      <td>0</td>\n",
       "      <td>2014-12-09</td>\n",
       "      <td>361.894989</td>\n",
       "      <td>363.066986</td>\n",
       "      <td>344.950989</td>\n",
       "      <td>352.218994</td>\n",
       "      <td>352.218994</td>\n",
       "      <td>32915500</td>\n",
       "      <td>BTC</td>\n",
       "    </tr>\n",
       "    <tr>\n",
       "      <th>1</th>\n",
       "      <td>1</td>\n",
       "      <td>2014-12-10</td>\n",
       "      <td>352.204987</td>\n",
       "      <td>352.384003</td>\n",
       "      <td>346.364990</td>\n",
       "      <td>346.364990</td>\n",
       "      <td>346.364990</td>\n",
       "      <td>16427700</td>\n",
       "      <td>BTC</td>\n",
       "    </tr>\n",
       "    <tr>\n",
       "      <th>2</th>\n",
       "      <td>2</td>\n",
       "      <td>2014-12-11</td>\n",
       "      <td>344.339996</td>\n",
       "      <td>361.356995</td>\n",
       "      <td>338.763000</td>\n",
       "      <td>350.506012</td>\n",
       "      <td>350.506012</td>\n",
       "      <td>32431300</td>\n",
       "      <td>BTC</td>\n",
       "    </tr>\n",
       "    <tr>\n",
       "      <th>3</th>\n",
       "      <td>3</td>\n",
       "      <td>2014-12-12</td>\n",
       "      <td>350.833008</td>\n",
       "      <td>352.983002</td>\n",
       "      <td>349.290985</td>\n",
       "      <td>352.541992</td>\n",
       "      <td>352.541992</td>\n",
       "      <td>16989800</td>\n",
       "      <td>BTC</td>\n",
       "    </tr>\n",
       "    <tr>\n",
       "      <th>4</th>\n",
       "      <td>4</td>\n",
       "      <td>2014-12-13</td>\n",
       "      <td>352.381012</td>\n",
       "      <td>352.381012</td>\n",
       "      <td>346.588013</td>\n",
       "      <td>347.376007</td>\n",
       "      <td>347.376007</td>\n",
       "      <td>11675900</td>\n",
       "      <td>BTC</td>\n",
       "    </tr>\n",
       "    <tr>\n",
       "      <th>...</th>\n",
       "      <td>...</td>\n",
       "      <td>...</td>\n",
       "      <td>...</td>\n",
       "      <td>...</td>\n",
       "      <td>...</td>\n",
       "      <td>...</td>\n",
       "      <td>...</td>\n",
       "      <td>...</td>\n",
       "      <td>...</td>\n",
       "    </tr>\n",
       "    <tr>\n",
       "      <th>10129</th>\n",
       "      <td>1570</td>\n",
       "      <td>2022-03-09</td>\n",
       "      <td>1754.225098</td>\n",
       "      <td>1918.758301</td>\n",
       "      <td>1747.854126</td>\n",
       "      <td>1913.793213</td>\n",
       "      <td>1913.793213</td>\n",
       "      <td>65771052</td>\n",
       "      <td>MKR</td>\n",
       "    </tr>\n",
       "    <tr>\n",
       "      <th>10130</th>\n",
       "      <td>1571</td>\n",
       "      <td>2022-03-10</td>\n",
       "      <td>1912.570557</td>\n",
       "      <td>1914.414185</td>\n",
       "      <td>1765.506348</td>\n",
       "      <td>1773.745972</td>\n",
       "      <td>1773.745972</td>\n",
       "      <td>62791406</td>\n",
       "      <td>MKR</td>\n",
       "    </tr>\n",
       "    <tr>\n",
       "      <th>10131</th>\n",
       "      <td>1572</td>\n",
       "      <td>2022-03-11</td>\n",
       "      <td>1773.831665</td>\n",
       "      <td>1793.170654</td>\n",
       "      <td>1709.868164</td>\n",
       "      <td>1750.467651</td>\n",
       "      <td>1750.467651</td>\n",
       "      <td>56816724</td>\n",
       "      <td>MKR</td>\n",
       "    </tr>\n",
       "    <tr>\n",
       "      <th>10132</th>\n",
       "      <td>1573</td>\n",
       "      <td>2022-03-12</td>\n",
       "      <td>1750.544189</td>\n",
       "      <td>1788.684692</td>\n",
       "      <td>1744.583252</td>\n",
       "      <td>1744.610962</td>\n",
       "      <td>1744.610962</td>\n",
       "      <td>36075999</td>\n",
       "      <td>MKR</td>\n",
       "    </tr>\n",
       "    <tr>\n",
       "      <th>10133</th>\n",
       "      <td>1574</td>\n",
       "      <td>2022-03-13</td>\n",
       "      <td>1739.929932</td>\n",
       "      <td>1780.157715</td>\n",
       "      <td>1695.159424</td>\n",
       "      <td>1727.445068</td>\n",
       "      <td>1727.445068</td>\n",
       "      <td>40633560</td>\n",
       "      <td>MKR</td>\n",
       "    </tr>\n",
       "  </tbody>\n",
       "</table>\n",
       "<p>10134 rows × 9 columns</p>\n",
       "</div>"
      ],
      "text/plain": [
       "       Unnamed: 0        Date         Open         High          Low  \\\n",
       "0               0  2014-12-09   361.894989   363.066986   344.950989   \n",
       "1               1  2014-12-10   352.204987   352.384003   346.364990   \n",
       "2               2  2014-12-11   344.339996   361.356995   338.763000   \n",
       "3               3  2014-12-12   350.833008   352.983002   349.290985   \n",
       "4               4  2014-12-13   352.381012   352.381012   346.588013   \n",
       "...           ...         ...          ...          ...          ...   \n",
       "10129        1570  2022-03-09  1754.225098  1918.758301  1747.854126   \n",
       "10130        1571  2022-03-10  1912.570557  1914.414185  1765.506348   \n",
       "10131        1572  2022-03-11  1773.831665  1793.170654  1709.868164   \n",
       "10132        1573  2022-03-12  1750.544189  1788.684692  1744.583252   \n",
       "10133        1574  2022-03-13  1739.929932  1780.157715  1695.159424   \n",
       "\n",
       "             Close    Adj Close    Volume Crypto  \n",
       "0       352.218994   352.218994  32915500    BTC  \n",
       "1       346.364990   346.364990  16427700    BTC  \n",
       "2       350.506012   350.506012  32431300    BTC  \n",
       "3       352.541992   352.541992  16989800    BTC  \n",
       "4       347.376007   347.376007  11675900    BTC  \n",
       "...            ...          ...       ...    ...  \n",
       "10129  1913.793213  1913.793213  65771052    MKR  \n",
       "10130  1773.745972  1773.745972  62791406    MKR  \n",
       "10131  1750.467651  1750.467651  56816724    MKR  \n",
       "10132  1744.610962  1744.610962  36075999    MKR  \n",
       "10133  1727.445068  1727.445068  40633560    MKR  \n",
       "\n",
       "[10134 rows x 9 columns]"
      ]
     },
     "execution_count": 4,
     "metadata": {},
     "output_type": "execute_result"
    }
   ],
   "source": [
    "data"
   ]
  },
  {
   "cell_type": "code",
   "execution_count": 5,
   "id": "390da77d",
   "metadata": {},
   "outputs": [
    {
     "data": {
      "text/plain": [
       "Unnamed: 0    False\n",
       "Date          False\n",
       "Open          False\n",
       "High          False\n",
       "Low           False\n",
       "Close         False\n",
       "Adj Close     False\n",
       "Volume        False\n",
       "Crypto        False\n",
       "dtype: bool"
      ]
     },
     "execution_count": 5,
     "metadata": {},
     "output_type": "execute_result"
    }
   ],
   "source": [
    "data.isnull().any()"
   ]
  },
  {
   "cell_type": "code",
   "execution_count": 6,
   "id": "5c5c6044",
   "metadata": {},
   "outputs": [
    {
     "data": {
      "text/plain": [
       "Unnamed: 0    0\n",
       "Date          0\n",
       "Open          0\n",
       "High          0\n",
       "Low           0\n",
       "Close         0\n",
       "Adj Close     0\n",
       "Volume        0\n",
       "Crypto        0\n",
       "dtype: int64"
      ]
     },
     "execution_count": 6,
     "metadata": {},
     "output_type": "execute_result"
    }
   ],
   "source": [
    "data.isnull().sum()"
   ]
  },
  {
   "cell_type": "code",
   "execution_count": 7,
   "id": "dee4ff6c",
   "metadata": {},
   "outputs": [],
   "source": [
    "data.dropna(inplace =True)"
   ]
  },
  {
   "cell_type": "code",
   "execution_count": 8,
   "id": "4741dae8",
   "metadata": {},
   "outputs": [
    {
     "data": {
      "text/plain": [
       "Unnamed: 0    0\n",
       "Date          0\n",
       "Open          0\n",
       "High          0\n",
       "Low           0\n",
       "Close         0\n",
       "Adj Close     0\n",
       "Volume        0\n",
       "Crypto        0\n",
       "dtype: int64"
      ]
     },
     "execution_count": 8,
     "metadata": {},
     "output_type": "execute_result"
    }
   ],
   "source": [
    "data.isnull().sum()"
   ]
  },
  {
   "cell_type": "code",
   "execution_count": 9,
   "id": "858403b0",
   "metadata": {},
   "outputs": [
    {
     "data": {
      "text/plain": [
       "Index(['Unnamed: 0', 'Date', 'Open', 'High', 'Low', 'Close', 'Adj Close',\n",
       "       'Volume', 'Crypto'],\n",
       "      dtype='object')"
      ]
     },
     "execution_count": 9,
     "metadata": {},
     "output_type": "execute_result"
    }
   ],
   "source": [
    "data.columns"
   ]
  },
  {
   "cell_type": "code",
   "execution_count": 10,
   "id": "05315a8b",
   "metadata": {},
   "outputs": [
    {
     "data": {
      "text/html": [
       "<div>\n",
       "<style scoped>\n",
       "    .dataframe tbody tr th:only-of-type {\n",
       "        vertical-align: middle;\n",
       "    }\n",
       "\n",
       "    .dataframe tbody tr th {\n",
       "        vertical-align: top;\n",
       "    }\n",
       "\n",
       "    .dataframe thead th {\n",
       "        text-align: right;\n",
       "    }\n",
       "</style>\n",
       "<table border=\"1\" class=\"dataframe\">\n",
       "  <thead>\n",
       "    <tr style=\"text-align: right;\">\n",
       "      <th></th>\n",
       "      <th>Date</th>\n",
       "      <th>Open</th>\n",
       "      <th>High</th>\n",
       "      <th>Low</th>\n",
       "      <th>Close</th>\n",
       "      <th>Crypto</th>\n",
       "    </tr>\n",
       "  </thead>\n",
       "  <tbody>\n",
       "    <tr>\n",
       "      <th>0</th>\n",
       "      <td>2014-12-09</td>\n",
       "      <td>361.894989</td>\n",
       "      <td>363.066986</td>\n",
       "      <td>344.950989</td>\n",
       "      <td>352.218994</td>\n",
       "      <td>BTC</td>\n",
       "    </tr>\n",
       "    <tr>\n",
       "      <th>1</th>\n",
       "      <td>2014-12-10</td>\n",
       "      <td>352.204987</td>\n",
       "      <td>352.384003</td>\n",
       "      <td>346.364990</td>\n",
       "      <td>346.364990</td>\n",
       "      <td>BTC</td>\n",
       "    </tr>\n",
       "    <tr>\n",
       "      <th>2</th>\n",
       "      <td>2014-12-11</td>\n",
       "      <td>344.339996</td>\n",
       "      <td>361.356995</td>\n",
       "      <td>338.763000</td>\n",
       "      <td>350.506012</td>\n",
       "      <td>BTC</td>\n",
       "    </tr>\n",
       "    <tr>\n",
       "      <th>3</th>\n",
       "      <td>2014-12-12</td>\n",
       "      <td>350.833008</td>\n",
       "      <td>352.983002</td>\n",
       "      <td>349.290985</td>\n",
       "      <td>352.541992</td>\n",
       "      <td>BTC</td>\n",
       "    </tr>\n",
       "    <tr>\n",
       "      <th>4</th>\n",
       "      <td>2014-12-13</td>\n",
       "      <td>352.381012</td>\n",
       "      <td>352.381012</td>\n",
       "      <td>346.588013</td>\n",
       "      <td>347.376007</td>\n",
       "      <td>BTC</td>\n",
       "    </tr>\n",
       "    <tr>\n",
       "      <th>...</th>\n",
       "      <td>...</td>\n",
       "      <td>...</td>\n",
       "      <td>...</td>\n",
       "      <td>...</td>\n",
       "      <td>...</td>\n",
       "      <td>...</td>\n",
       "    </tr>\n",
       "    <tr>\n",
       "      <th>10129</th>\n",
       "      <td>2022-03-09</td>\n",
       "      <td>1754.225098</td>\n",
       "      <td>1918.758301</td>\n",
       "      <td>1747.854126</td>\n",
       "      <td>1913.793213</td>\n",
       "      <td>MKR</td>\n",
       "    </tr>\n",
       "    <tr>\n",
       "      <th>10130</th>\n",
       "      <td>2022-03-10</td>\n",
       "      <td>1912.570557</td>\n",
       "      <td>1914.414185</td>\n",
       "      <td>1765.506348</td>\n",
       "      <td>1773.745972</td>\n",
       "      <td>MKR</td>\n",
       "    </tr>\n",
       "    <tr>\n",
       "      <th>10131</th>\n",
       "      <td>2022-03-11</td>\n",
       "      <td>1773.831665</td>\n",
       "      <td>1793.170654</td>\n",
       "      <td>1709.868164</td>\n",
       "      <td>1750.467651</td>\n",
       "      <td>MKR</td>\n",
       "    </tr>\n",
       "    <tr>\n",
       "      <th>10132</th>\n",
       "      <td>2022-03-12</td>\n",
       "      <td>1750.544189</td>\n",
       "      <td>1788.684692</td>\n",
       "      <td>1744.583252</td>\n",
       "      <td>1744.610962</td>\n",
       "      <td>MKR</td>\n",
       "    </tr>\n",
       "    <tr>\n",
       "      <th>10133</th>\n",
       "      <td>2022-03-13</td>\n",
       "      <td>1739.929932</td>\n",
       "      <td>1780.157715</td>\n",
       "      <td>1695.159424</td>\n",
       "      <td>1727.445068</td>\n",
       "      <td>MKR</td>\n",
       "    </tr>\n",
       "  </tbody>\n",
       "</table>\n",
       "<p>10134 rows × 6 columns</p>\n",
       "</div>"
      ],
      "text/plain": [
       "             Date         Open         High          Low        Close Crypto\n",
       "0      2014-12-09   361.894989   363.066986   344.950989   352.218994    BTC\n",
       "1      2014-12-10   352.204987   352.384003   346.364990   346.364990    BTC\n",
       "2      2014-12-11   344.339996   361.356995   338.763000   350.506012    BTC\n",
       "3      2014-12-12   350.833008   352.983002   349.290985   352.541992    BTC\n",
       "4      2014-12-13   352.381012   352.381012   346.588013   347.376007    BTC\n",
       "...           ...          ...          ...          ...          ...    ...\n",
       "10129  2022-03-09  1754.225098  1918.758301  1747.854126  1913.793213    MKR\n",
       "10130  2022-03-10  1912.570557  1914.414185  1765.506348  1773.745972    MKR\n",
       "10131  2022-03-11  1773.831665  1793.170654  1709.868164  1750.467651    MKR\n",
       "10132  2022-03-12  1750.544189  1788.684692  1744.583252  1744.610962    MKR\n",
       "10133  2022-03-13  1739.929932  1780.157715  1695.159424  1727.445068    MKR\n",
       "\n",
       "[10134 rows x 6 columns]"
      ]
     },
     "execution_count": 10,
     "metadata": {},
     "output_type": "execute_result"
    }
   ],
   "source": [
    "data.drop(['Unnamed: 0', 'Adj Close','Volume' ],axis =1, inplace =True)\n",
    "data"
   ]
  },
  {
   "cell_type": "markdown",
   "id": "2e91d17d",
   "metadata": {},
   "source": [
    "# Make  target value in USD"
   ]
  },
  {
   "cell_type": "code",
   "execution_count": 11,
   "id": "2aeed38c",
   "metadata": {},
   "outputs": [],
   "source": [
    "#data[\"Today_USD\"] =  (data[\"Open\"] + data[\"Close\"] ) /2\n",
    "data[\"Today_USD\"] =  (data[\"High\"])\n"
   ]
  },
  {
   "cell_type": "code",
   "execution_count": 12,
   "id": "933b8167",
   "metadata": {},
   "outputs": [
    {
     "data": {
      "text/plain": [
       "array(['BTC', 'LTC', 'BNB', 'ETH', 'MKR'], dtype=object)"
      ]
     },
     "execution_count": 12,
     "metadata": {},
     "output_type": "execute_result"
    }
   ],
   "source": [
    "data[\"Crypto\"].unique()"
   ]
  },
  {
   "cell_type": "code",
   "execution_count": 13,
   "id": "b55710ad",
   "metadata": {},
   "outputs": [],
   "source": [
    "# making tomorrow result \n",
    "for id, crip in enumerate(data[\"Crypto\"].unique()):\n",
    "    ind_cript = data[data[\"Crypto\"] == crip]\n",
    "    ind_cript[\"Tomorrow_price(USD)\"] =ind_cript[\"Today_USD\"].shift(-1) \n",
    "    ind_cript.head()\n",
    "    ind_cript.dropna(inplace =True)\n",
    "    if (id ==0 ):\n",
    "        BTC =ind_cript\n",
    "    elif (id ==1 ):\n",
    "        ADA = ind_cript\n",
    "    elif (id == 2 ):\n",
    "        BNB = ind_cript\n",
    "    elif (id == 3 ):\n",
    "        ETH = ind_cript\n",
    "    elif (id == 4 ):\n",
    "        USDT = ind_cript\n",
    "        \n",
    "\n",
    "file = pd.concat([BTC,ETH, BNB, ADA, USDT])\n",
    "#files = pd.concat([BTC,ETH, BNB])"
   ]
  },
  {
   "cell_type": "code",
   "execution_count": 14,
   "id": "f7f01f9b",
   "metadata": {},
   "outputs": [
    {
     "data": {
      "text/html": [
       "<div>\n",
       "<style scoped>\n",
       "    .dataframe tbody tr th:only-of-type {\n",
       "        vertical-align: middle;\n",
       "    }\n",
       "\n",
       "    .dataframe tbody tr th {\n",
       "        vertical-align: top;\n",
       "    }\n",
       "\n",
       "    .dataframe thead th {\n",
       "        text-align: right;\n",
       "    }\n",
       "</style>\n",
       "<table border=\"1\" class=\"dataframe\">\n",
       "  <thead>\n",
       "    <tr style=\"text-align: right;\">\n",
       "      <th></th>\n",
       "      <th>Date</th>\n",
       "      <th>Open</th>\n",
       "      <th>High</th>\n",
       "      <th>Low</th>\n",
       "      <th>Close</th>\n",
       "      <th>Crypto</th>\n",
       "      <th>Today_USD</th>\n",
       "      <th>Tomorrow_price(USD)</th>\n",
       "    </tr>\n",
       "  </thead>\n",
       "  <tbody>\n",
       "    <tr>\n",
       "      <th>10128</th>\n",
       "      <td>2022-03-08</td>\n",
       "      <td>1745.794800</td>\n",
       "      <td>1790.965698</td>\n",
       "      <td>1722.096802</td>\n",
       "      <td>1754.612671</td>\n",
       "      <td>MKR</td>\n",
       "      <td>1790.965698</td>\n",
       "      <td>1918.758301</td>\n",
       "    </tr>\n",
       "    <tr>\n",
       "      <th>10129</th>\n",
       "      <td>2022-03-09</td>\n",
       "      <td>1754.225098</td>\n",
       "      <td>1918.758301</td>\n",
       "      <td>1747.854126</td>\n",
       "      <td>1913.793213</td>\n",
       "      <td>MKR</td>\n",
       "      <td>1918.758301</td>\n",
       "      <td>1914.414185</td>\n",
       "    </tr>\n",
       "    <tr>\n",
       "      <th>10130</th>\n",
       "      <td>2022-03-10</td>\n",
       "      <td>1912.570557</td>\n",
       "      <td>1914.414185</td>\n",
       "      <td>1765.506348</td>\n",
       "      <td>1773.745972</td>\n",
       "      <td>MKR</td>\n",
       "      <td>1914.414185</td>\n",
       "      <td>1793.170654</td>\n",
       "    </tr>\n",
       "    <tr>\n",
       "      <th>10131</th>\n",
       "      <td>2022-03-11</td>\n",
       "      <td>1773.831665</td>\n",
       "      <td>1793.170654</td>\n",
       "      <td>1709.868164</td>\n",
       "      <td>1750.467651</td>\n",
       "      <td>MKR</td>\n",
       "      <td>1793.170654</td>\n",
       "      <td>1788.684692</td>\n",
       "    </tr>\n",
       "    <tr>\n",
       "      <th>10132</th>\n",
       "      <td>2022-03-12</td>\n",
       "      <td>1750.544189</td>\n",
       "      <td>1788.684692</td>\n",
       "      <td>1744.583252</td>\n",
       "      <td>1744.610962</td>\n",
       "      <td>MKR</td>\n",
       "      <td>1788.684692</td>\n",
       "      <td>1780.157715</td>\n",
       "    </tr>\n",
       "  </tbody>\n",
       "</table>\n",
       "</div>"
      ],
      "text/plain": [
       "             Date         Open         High          Low        Close Crypto  \\\n",
       "10128  2022-03-08  1745.794800  1790.965698  1722.096802  1754.612671    MKR   \n",
       "10129  2022-03-09  1754.225098  1918.758301  1747.854126  1913.793213    MKR   \n",
       "10130  2022-03-10  1912.570557  1914.414185  1765.506348  1773.745972    MKR   \n",
       "10131  2022-03-11  1773.831665  1793.170654  1709.868164  1750.467651    MKR   \n",
       "10132  2022-03-12  1750.544189  1788.684692  1744.583252  1744.610962    MKR   \n",
       "\n",
       "         Today_USD  Tomorrow_price(USD)  \n",
       "10128  1790.965698          1918.758301  \n",
       "10129  1918.758301          1914.414185  \n",
       "10130  1914.414185          1793.170654  \n",
       "10131  1793.170654          1788.684692  \n",
       "10132  1788.684692          1780.157715  "
      ]
     },
     "execution_count": 14,
     "metadata": {},
     "output_type": "execute_result"
    }
   ],
   "source": [
    "file.tail()"
   ]
  },
  {
   "cell_type": "code",
   "execution_count": 15,
   "id": "393dffaf",
   "metadata": {},
   "outputs": [
    {
     "name": "stdout",
     "output_type": "stream",
     "text": [
      "The Crypto  BTC  is = 0\n",
      "The Crypto  LTC  is = 1\n",
      "The Crypto  BNB  is = 2\n",
      "The Crypto  ETH  is = 3\n",
      "The Crypto  MKR  is = 4\n"
     ]
    }
   ],
   "source": [
    "for x, y in enumerate(data[\"Crypto\"].unique()):\n",
    "    file[\"Crypto\"] = file[\"Crypto\"].replace({y:  x})\n",
    "    print(\"The Crypto \", y, \" is =\", x)\n",
    "    "
   ]
  },
  {
   "cell_type": "code",
   "execution_count": 16,
   "id": "6dd8ca07",
   "metadata": {},
   "outputs": [
    {
     "data": {
      "text/plain": [
       "array([0, 3, 2, 1, 4], dtype=int64)"
      ]
     },
     "execution_count": 16,
     "metadata": {},
     "output_type": "execute_result"
    }
   ],
   "source": [
    "file[\"Crypto\"].unique()"
   ]
  },
  {
   "cell_type": "code",
   "execution_count": 17,
   "id": "e656e6de",
   "metadata": {},
   "outputs": [
    {
     "data": {
      "text/plain": [
       "Index(['Date', 'Open', 'High', 'Low', 'Close', 'Crypto', 'Today_USD',\n",
       "       'Tomorrow_price(USD)'],\n",
       "      dtype='object')"
      ]
     },
     "execution_count": 17,
     "metadata": {},
     "output_type": "execute_result"
    }
   ],
   "source": [
    "file.columns"
   ]
  },
  {
   "cell_type": "code",
   "execution_count": 18,
   "id": "2f5d1d58",
   "metadata": {},
   "outputs": [],
   "source": [
    "file.drop([\"Date\",\"Today_USD\"], inplace =True, axis =True)"
   ]
  },
  {
   "cell_type": "markdown",
   "id": "2bc90851",
   "metadata": {},
   "source": [
    "# Scaling"
   ]
  },
  {
   "cell_type": "code",
   "execution_count": 19,
   "id": "ec53c4dc",
   "metadata": {},
   "outputs": [
    {
     "data": {
      "text/html": [
       "<div>\n",
       "<style scoped>\n",
       "    .dataframe tbody tr th:only-of-type {\n",
       "        vertical-align: middle;\n",
       "    }\n",
       "\n",
       "    .dataframe tbody tr th {\n",
       "        vertical-align: top;\n",
       "    }\n",
       "\n",
       "    .dataframe thead th {\n",
       "        text-align: right;\n",
       "    }\n",
       "</style>\n",
       "<table border=\"1\" class=\"dataframe\">\n",
       "  <thead>\n",
       "    <tr style=\"text-align: right;\">\n",
       "      <th></th>\n",
       "      <th>Open</th>\n",
       "      <th>High</th>\n",
       "      <th>Low</th>\n",
       "      <th>Close</th>\n",
       "      <th>Crypto</th>\n",
       "      <th>Tomorrow_price(USD)</th>\n",
       "    </tr>\n",
       "  </thead>\n",
       "  <tbody>\n",
       "    <tr>\n",
       "      <th>0</th>\n",
       "      <td>361.894989</td>\n",
       "      <td>363.066986</td>\n",
       "      <td>344.950989</td>\n",
       "      <td>352.218994</td>\n",
       "      <td>0</td>\n",
       "      <td>352.384003</td>\n",
       "    </tr>\n",
       "    <tr>\n",
       "      <th>1</th>\n",
       "      <td>352.204987</td>\n",
       "      <td>352.384003</td>\n",
       "      <td>346.364990</td>\n",
       "      <td>346.364990</td>\n",
       "      <td>0</td>\n",
       "      <td>361.356995</td>\n",
       "    </tr>\n",
       "    <tr>\n",
       "      <th>2</th>\n",
       "      <td>344.339996</td>\n",
       "      <td>361.356995</td>\n",
       "      <td>338.763000</td>\n",
       "      <td>350.506012</td>\n",
       "      <td>0</td>\n",
       "      <td>352.983002</td>\n",
       "    </tr>\n",
       "    <tr>\n",
       "      <th>3</th>\n",
       "      <td>350.833008</td>\n",
       "      <td>352.983002</td>\n",
       "      <td>349.290985</td>\n",
       "      <td>352.541992</td>\n",
       "      <td>0</td>\n",
       "      <td>352.381012</td>\n",
       "    </tr>\n",
       "    <tr>\n",
       "      <th>4</th>\n",
       "      <td>352.381012</td>\n",
       "      <td>352.381012</td>\n",
       "      <td>346.588013</td>\n",
       "      <td>347.376007</td>\n",
       "      <td>0</td>\n",
       "      <td>353.316010</td>\n",
       "    </tr>\n",
       "  </tbody>\n",
       "</table>\n",
       "</div>"
      ],
      "text/plain": [
       "         Open        High         Low       Close  Crypto  Tomorrow_price(USD)\n",
       "0  361.894989  363.066986  344.950989  352.218994       0           352.384003\n",
       "1  352.204987  352.384003  346.364990  346.364990       0           361.356995\n",
       "2  344.339996  361.356995  338.763000  350.506012       0           352.983002\n",
       "3  350.833008  352.983002  349.290985  352.541992       0           352.381012\n",
       "4  352.381012  352.381012  346.588013  347.376007       0           353.316010"
      ]
     },
     "execution_count": 19,
     "metadata": {},
     "output_type": "execute_result"
    }
   ],
   "source": [
    "file.head()"
   ]
  },
  {
   "cell_type": "code",
   "execution_count": 20,
   "id": "7ea5ac61",
   "metadata": {},
   "outputs": [],
   "source": [
    "from sklearn.model_selection import train_test_split\n",
    "\n",
    "X = file.iloc[:,:-1]\n",
    "Y = file.iloc[:,-1]"
   ]
  },
  {
   "cell_type": "code",
   "execution_count": 21,
   "id": "fa20ea37",
   "metadata": {},
   "outputs": [],
   "source": [
    "#X.to_csv(\"Crypto_input.csv\")"
   ]
  },
  {
   "cell_type": "markdown",
   "id": "d84969f7",
   "metadata": {},
   "source": [
    "from sklearn.preprocessing import MinMaxScaler\n",
    "#sc = MinMaxScaler()\n",
    "scaler_x = MinMaxScaler()\n",
    "scaler_y = MinMaxScaler()\n",
    "\n",
    "scaler_x.fit(X)\n",
    "X_sc = scaler_x.transform(X)\n",
    "Y_sc = scaler_y.fit(file[[\"Tomorrow_price(USD)\"]])\n",
    "Y_sc =scaler_y.fit_transform(file[[\"Tomorrow_price(USD)\"]])\n",
    "X_sc,Y_sc\n"
   ]
  },
  {
   "cell_type": "code",
   "execution_count": 22,
   "id": "79f10bd9",
   "metadata": {},
   "outputs": [],
   "source": [
    "#X,Y"
   ]
  },
  {
   "cell_type": "code",
   "execution_count": 23,
   "id": "22c542b4",
   "metadata": {},
   "outputs": [],
   "source": [
    "#scaler_x.inverse_transform(X_sc)\n",
    "#scaler_y.inverse_transform(Y_sc)\n"
   ]
  },
  {
   "cell_type": "code",
   "execution_count": 24,
   "id": "34fc861a",
   "metadata": {},
   "outputs": [],
   "source": [
    "X_train,X_test, Y_train, Y_test = train_test_split( X, Y,test_size = 0.2, random_state = 42)"
   ]
  },
  {
   "cell_type": "markdown",
   "id": "c67f98d0",
   "metadata": {},
   "source": [
    "# machine learning algarithams comparitions"
   ]
  },
  {
   "cell_type": "code",
   "execution_count": 25,
   "id": "9844de4d",
   "metadata": {},
   "outputs": [
    {
     "data": {
      "text/html": [
       "<div>\n",
       "<style scoped>\n",
       "    .dataframe tbody tr th:only-of-type {\n",
       "        vertical-align: middle;\n",
       "    }\n",
       "\n",
       "    .dataframe tbody tr th {\n",
       "        vertical-align: top;\n",
       "    }\n",
       "\n",
       "    .dataframe thead th {\n",
       "        text-align: right;\n",
       "    }\n",
       "</style>\n",
       "<table border=\"1\" class=\"dataframe\">\n",
       "  <thead>\n",
       "    <tr style=\"text-align: right;\">\n",
       "      <th></th>\n",
       "      <th>Open</th>\n",
       "      <th>High</th>\n",
       "      <th>Low</th>\n",
       "      <th>Close</th>\n",
       "      <th>Crypto</th>\n",
       "    </tr>\n",
       "  </thead>\n",
       "  <tbody>\n",
       "    <tr>\n",
       "      <th>1937</th>\n",
       "      <td>6245.624512</td>\n",
       "      <td>6250.467285</td>\n",
       "      <td>5920.085938</td>\n",
       "      <td>5922.042969</td>\n",
       "      <td>0</td>\n",
       "    </tr>\n",
       "    <tr>\n",
       "      <th>5628</th>\n",
       "      <td>14.397900</td>\n",
       "      <td>14.422300</td>\n",
       "      <td>13.934500</td>\n",
       "      <td>13.991900</td>\n",
       "      <td>2</td>\n",
       "    </tr>\n",
       "    <tr>\n",
       "      <th>5381</th>\n",
       "      <td>98.861572</td>\n",
       "      <td>102.160332</td>\n",
       "      <td>98.499702</td>\n",
       "      <td>100.617645</td>\n",
       "      <td>1</td>\n",
       "    </tr>\n",
       "    <tr>\n",
       "      <th>1346</th>\n",
       "      <td>6294.229980</td>\n",
       "      <td>6473.500000</td>\n",
       "      <td>6276.410156</td>\n",
       "      <td>6334.729980</td>\n",
       "      <td>0</td>\n",
       "    </tr>\n",
       "    <tr>\n",
       "      <th>4127</th>\n",
       "      <td>61.098598</td>\n",
       "      <td>61.729698</td>\n",
       "      <td>59.740002</td>\n",
       "      <td>60.208099</td>\n",
       "      <td>1</td>\n",
       "    </tr>\n",
       "    <tr>\n",
       "      <th>...</th>\n",
       "      <td>...</td>\n",
       "      <td>...</td>\n",
       "      <td>...</td>\n",
       "      <td>...</td>\n",
       "      <td>...</td>\n",
       "    </tr>\n",
       "    <tr>\n",
       "      <th>6885</th>\n",
       "      <td>541.403809</td>\n",
       "      <td>545.151978</td>\n",
       "      <td>525.121643</td>\n",
       "      <td>526.246521</td>\n",
       "      <td>2</td>\n",
       "    </tr>\n",
       "    <tr>\n",
       "      <th>6342</th>\n",
       "      <td>16.038355</td>\n",
       "      <td>16.252193</td>\n",
       "      <td>15.980892</td>\n",
       "      <td>16.001226</td>\n",
       "      <td>2</td>\n",
       "    </tr>\n",
       "    <tr>\n",
       "      <th>6541</th>\n",
       "      <td>41.775536</td>\n",
       "      <td>42.192703</td>\n",
       "      <td>40.592529</td>\n",
       "      <td>42.165955</td>\n",
       "      <td>2</td>\n",
       "    </tr>\n",
       "    <tr>\n",
       "      <th>860</th>\n",
       "      <td>1183.250000</td>\n",
       "      <td>1194.900024</td>\n",
       "      <td>1172.650024</td>\n",
       "      <td>1193.910034</td>\n",
       "      <td>0</td>\n",
       "    </tr>\n",
       "    <tr>\n",
       "      <th>4101</th>\n",
       "      <td>67.667900</td>\n",
       "      <td>68.118797</td>\n",
       "      <td>58.437698</td>\n",
       "      <td>58.437698</td>\n",
       "      <td>1</td>\n",
       "    </tr>\n",
       "  </tbody>\n",
       "</table>\n",
       "<p>8103 rows × 5 columns</p>\n",
       "</div>"
      ],
      "text/plain": [
       "             Open         High          Low        Close  Crypto\n",
       "1937  6245.624512  6250.467285  5920.085938  5922.042969       0\n",
       "5628    14.397900    14.422300    13.934500    13.991900       2\n",
       "5381    98.861572   102.160332    98.499702   100.617645       1\n",
       "1346  6294.229980  6473.500000  6276.410156  6334.729980       0\n",
       "4127    61.098598    61.729698    59.740002    60.208099       1\n",
       "...           ...          ...          ...          ...     ...\n",
       "6885   541.403809   545.151978   525.121643   526.246521       2\n",
       "6342    16.038355    16.252193    15.980892    16.001226       2\n",
       "6541    41.775536    42.192703    40.592529    42.165955       2\n",
       "860   1183.250000  1194.900024  1172.650024  1193.910034       0\n",
       "4101    67.667900    68.118797    58.437698    58.437698       1\n",
       "\n",
       "[8103 rows x 5 columns]"
      ]
     },
     "execution_count": 25,
     "metadata": {},
     "output_type": "execute_result"
    }
   ],
   "source": [
    "X_train"
   ]
  },
  {
   "cell_type": "code",
   "execution_count": 26,
   "id": "399bc428",
   "metadata": {},
   "outputs": [],
   "source": [
    "from sklearn.linear_model import LinearRegression\n",
    "from sklearn.svm import SVR\n",
    "from sklearn.linear_model import SGDRegressor\n",
    "from sklearn.linear_model import Lasso\n",
    "from xgboost import XGBRegressor\n",
    "#from xgboost import XGBRegressor\n",
    "from sklearn.linear_model import Ridge \n",
    "from sklearn.ensemble import RandomForestRegressor \n",
    "lr = LinearRegression()\n",
    "svr =SVR()\n",
    "sgdr = SGDRegressor()\n",
    "ls = Lasso()\n",
    "xgbr = XGBRegressor()\n",
    "r = Ridge()\n",
    "rfr = RandomForestRegressor()\n",
    "\n",
    "alg = [lr, svr, sgdr, ls, xgbr, r,rfr]"
   ]
  },
  {
   "cell_type": "code",
   "execution_count": 27,
   "id": "39893989",
   "metadata": {},
   "outputs": [],
   "source": [
    "from sklearn.metrics import mean_squared_error\n",
    "from sklearn.metrics import mean_absolute_error\n",
    "from sklearn.metrics import r2_score\n",
    "\n",
    "from math import sqrt\n",
    "\n",
    "#rms = sqrt(mean_squared_error(y_actual, y_predicted))"
   ]
  },
  {
   "cell_type": "code",
   "execution_count": 28,
   "id": "cf60f971",
   "metadata": {},
   "outputs": [
    {
     "name": "stdout",
     "output_type": "stream",
     "text": [
      "LinearRegression() \n",
      " mse =  80441.4622937469 ;  rms =  283.62204126926895  mae =  72.16039204886188 R2 =  0.9991410881036368\n",
      "\n",
      "SVR() \n",
      " mse =  96607471.97655879 ;  rms =  9828.910009586963  mae =  3068.898881189831 R2 =  -0.031524099540118256\n",
      "\n",
      "SGDRegressor() \n",
      " mse =  1.3450059397057405e+32 ;  rms =  1.1597439112604732e+16  mae =  3798913925743709.5 R2 =  -1.436127053575856e+24\n",
      "\n",
      "Lasso() \n",
      " mse =  102193.8260130315 ;  rms =  319.6776908278579  mae =  79.94725695229333 R2 =  0.9989088277314385\n",
      "\n",
      "XGBRegressor(base_score=0.5, booster='gbtree', colsample_bylevel=1,\n",
      "             colsample_bynode=1, colsample_bytree=1, enable_categorical=False,\n",
      "             gamma=0, gpu_id=-1, importance_type=None,\n",
      "             interaction_constraints='', learning_rate=0.300000012,\n",
      "             max_delta_step=0, max_depth=6, min_child_weight=1, missing=nan,\n",
      "             monotone_constraints='()', n_estimators=100, n_jobs=4,\n",
      "             num_parallel_tree=1, predictor='auto', random_state=0, reg_alpha=0,\n",
      "             reg_lambda=1, scale_pos_weight=1, subsample=1, tree_method='exact',\n",
      "             validate_parameters=1, verbosity=None) \n",
      " mse =  120883.93075318549 ;  rms =  347.68366477760424  mae =  87.44770998822712 R2 =  0.9987092645603095\n",
      "\n",
      "Ridge() \n",
      " mse =  80441.45959611914 ;  rms =  283.6220365135952  mae =  72.16038823152411 R2 =  0.9991410881324406\n",
      "\n",
      "RandomForestRegressor() \n",
      " mse =  89566.63516610579 ;  rms =  299.2768537092466  mae =  76.3580035514562 R2 =  0.9990436542764417\n",
      "\n"
     ]
    }
   ],
   "source": [
    "for  x in alg:\n",
    "    x.fit(X_train, Y_train)\n",
    "    predict = x.predict(X_test)\n",
    "    mse = mean_squared_error(Y_test, predict)\n",
    "    rms = np.sqrt(mse)\n",
    "    mae = mean_absolute_error(Y_test, predict)\n",
    "    r2 = r2_score(Y_test, predict)\n",
    "\n",
    "    print(x,\"\\n mse = \",mse,\";  rms = \",rms,\" mae = \", mae, \"R2 = \",r2)\n",
    "    print()\n"
   ]
  },
  {
   "cell_type": "markdown",
   "id": "3e551b6b",
   "metadata": {},
   "source": [
    "# Prediction Testiong"
   ]
  },
  {
   "cell_type": "code",
   "execution_count": 29,
   "id": "6b6a860d",
   "metadata": {},
   "outputs": [
    {
     "name": "stdout",
     "output_type": "stream",
     "text": [
      "RandomForestRegressor() \n",
      " mse =  80441.4622937469 ;  rms =  283.62204126926895  mse =  72.16039204886188 R2 =  0.9991410881036368\n",
      "\n"
     ]
    },
    {
     "data": {
      "text/plain": [
       "array([ 444.48031001,  453.21532685, 8146.43401366, ...,  579.14384841,\n",
       "        368.33869666,  113.43471004])"
      ]
     },
     "execution_count": 29,
     "metadata": {},
     "output_type": "execute_result"
    }
   ],
   "source": [
    "\n",
    "lr.fit(X_train, Y_train)\n",
    "predictlr = lr.predict(X_test)\n",
    "mse = mean_squared_error(Y_test, predictlr)\n",
    "rms = np.sqrt(mse)\n",
    "mae = mean_absolute_error(Y_test, predictlr)\n",
    "r2 = r2_score(Y_test, predictlr)\n",
    "\n",
    "print(x,\"\\n mse = \",mse,\";  rms = \",rms,\" mse = \", mae, \"R2 = \",r2)\n",
    "print()\n",
    "predictlr"
   ]
  },
  {
   "cell_type": "markdown",
   "id": "d9758db9",
   "metadata": {},
   "source": [
    "actual value form testing dataset"
   ]
  },
  {
   "cell_type": "code",
   "execution_count": 30,
   "id": "db87711e",
   "metadata": {},
   "outputs": [
    {
     "data": {
      "text/plain": [
       "8859     423.890991\n",
       "532      450.298004\n",
       "1155    8509.110352\n",
       "4600      62.165672\n",
       "6073      15.824426\n",
       "2030    9309.754883\n",
       "4267      49.183182\n",
       "1441    4951.609863\n",
       "1373    6535.410156\n",
       "7155     736.976990\n",
       "Name: Tomorrow_price(USD), dtype: float64"
      ]
     },
     "execution_count": 30,
     "metadata": {},
     "output_type": "execute_result"
    }
   ],
   "source": [
    "Y_test[:10]"
   ]
  },
  {
   "cell_type": "markdown",
   "id": "801f8385",
   "metadata": {},
   "source": [
    "predicted value"
   ]
  },
  {
   "cell_type": "code",
   "execution_count": 31,
   "id": "e16e512d",
   "metadata": {
    "scrolled": true
   },
   "outputs": [
    {
     "data": {
      "text/plain": [
       "array([ 444.48031001,  453.21532685, 8146.43401366,   65.10238665,\n",
       "         21.46467044, 9333.52750202,   51.27906194, 5103.6393788 ,\n",
       "       6485.91426354,  756.06447439])"
      ]
     },
     "execution_count": 31,
     "metadata": {},
     "output_type": "execute_result"
    }
   ],
   "source": [
    "predictlr[:10].T"
   ]
  },
  {
   "cell_type": "code",
   "execution_count": 32,
   "id": "2cd11587",
   "metadata": {},
   "outputs": [
    {
     "data": {
      "text/plain": [
       "['High_lr.pkl']"
      ]
     },
     "execution_count": 32,
     "metadata": {},
     "output_type": "execute_result"
    }
   ],
   "source": [
    "import joblib\n",
    "joblib.dump(lr,\"High_lr.pkl\")"
   ]
  },
  {
   "cell_type": "code",
   "execution_count": null,
   "id": "ef8d7c4d",
   "metadata": {},
   "outputs": [],
   "source": []
  }
 ],
 "metadata": {
  "kernelspec": {
   "display_name": "Python 3",
   "language": "python",
   "name": "python3"
  },
  "language_info": {
   "codemirror_mode": {
    "name": "ipython",
    "version": 3
   },
   "file_extension": ".py",
   "mimetype": "text/x-python",
   "name": "python",
   "nbconvert_exporter": "python",
   "pygments_lexer": "ipython3",
   "version": "3.8.8"
  }
 },
 "nbformat": 4,
 "nbformat_minor": 5
}

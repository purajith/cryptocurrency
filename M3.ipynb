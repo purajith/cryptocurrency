{
 "cells": [
  {
   "cell_type": "markdown",
   "id": "c0b37765",
   "metadata": {},
   "source": [
    "# M1_Tomorrow_price-model"
   ]
  },
  {
   "cell_type": "code",
   "execution_count": 1,
   "id": "76b861bf",
   "metadata": {},
   "outputs": [],
   "source": [
    "import pandas as pd\n",
    "import numpy as np\n",
    "import seaborn as sns \n",
    "import matplotlib.pyplot as plt "
   ]
  },
  {
   "cell_type": "code",
   "execution_count": 2,
   "id": "c952eb6e",
   "metadata": {},
   "outputs": [],
   "source": [
    "import warnings\n",
    "warnings.filterwarnings(\"ignore\")"
   ]
  },
  {
   "cell_type": "code",
   "execution_count": 3,
   "id": "8b7b5ffa",
   "metadata": {},
   "outputs": [],
   "source": [
    "data =pd.read_csv(\"Crypto_data2.csv\")"
   ]
  },
  {
   "cell_type": "code",
   "execution_count": 4,
   "id": "f3fd57c3",
   "metadata": {},
   "outputs": [
    {
     "data": {
      "text/html": [
       "<div>\n",
       "<style scoped>\n",
       "    .dataframe tbody tr th:only-of-type {\n",
       "        vertical-align: middle;\n",
       "    }\n",
       "\n",
       "    .dataframe tbody tr th {\n",
       "        vertical-align: top;\n",
       "    }\n",
       "\n",
       "    .dataframe thead th {\n",
       "        text-align: right;\n",
       "    }\n",
       "</style>\n",
       "<table border=\"1\" class=\"dataframe\">\n",
       "  <thead>\n",
       "    <tr style=\"text-align: right;\">\n",
       "      <th></th>\n",
       "      <th>Unnamed: 0</th>\n",
       "      <th>Date</th>\n",
       "      <th>Open</th>\n",
       "      <th>High</th>\n",
       "      <th>Low</th>\n",
       "      <th>Close</th>\n",
       "      <th>Adj Close</th>\n",
       "      <th>Volume</th>\n",
       "      <th>Crypto</th>\n",
       "    </tr>\n",
       "  </thead>\n",
       "  <tbody>\n",
       "    <tr>\n",
       "      <th>0</th>\n",
       "      <td>0</td>\n",
       "      <td>2014-12-09</td>\n",
       "      <td>361.894989</td>\n",
       "      <td>363.066986</td>\n",
       "      <td>344.950989</td>\n",
       "      <td>352.218994</td>\n",
       "      <td>352.218994</td>\n",
       "      <td>32915500</td>\n",
       "      <td>BTC</td>\n",
       "    </tr>\n",
       "    <tr>\n",
       "      <th>1</th>\n",
       "      <td>1</td>\n",
       "      <td>2014-12-10</td>\n",
       "      <td>352.204987</td>\n",
       "      <td>352.384003</td>\n",
       "      <td>346.364990</td>\n",
       "      <td>346.364990</td>\n",
       "      <td>346.364990</td>\n",
       "      <td>16427700</td>\n",
       "      <td>BTC</td>\n",
       "    </tr>\n",
       "    <tr>\n",
       "      <th>2</th>\n",
       "      <td>2</td>\n",
       "      <td>2014-12-11</td>\n",
       "      <td>344.339996</td>\n",
       "      <td>361.356995</td>\n",
       "      <td>338.763000</td>\n",
       "      <td>350.506012</td>\n",
       "      <td>350.506012</td>\n",
       "      <td>32431300</td>\n",
       "      <td>BTC</td>\n",
       "    </tr>\n",
       "    <tr>\n",
       "      <th>3</th>\n",
       "      <td>3</td>\n",
       "      <td>2014-12-12</td>\n",
       "      <td>350.833008</td>\n",
       "      <td>352.983002</td>\n",
       "      <td>349.290985</td>\n",
       "      <td>352.541992</td>\n",
       "      <td>352.541992</td>\n",
       "      <td>16989800</td>\n",
       "      <td>BTC</td>\n",
       "    </tr>\n",
       "    <tr>\n",
       "      <th>4</th>\n",
       "      <td>4</td>\n",
       "      <td>2014-12-13</td>\n",
       "      <td>352.381012</td>\n",
       "      <td>352.381012</td>\n",
       "      <td>346.588013</td>\n",
       "      <td>347.376007</td>\n",
       "      <td>347.376007</td>\n",
       "      <td>11675900</td>\n",
       "      <td>BTC</td>\n",
       "    </tr>\n",
       "    <tr>\n",
       "      <th>...</th>\n",
       "      <td>...</td>\n",
       "      <td>...</td>\n",
       "      <td>...</td>\n",
       "      <td>...</td>\n",
       "      <td>...</td>\n",
       "      <td>...</td>\n",
       "      <td>...</td>\n",
       "      <td>...</td>\n",
       "      <td>...</td>\n",
       "    </tr>\n",
       "    <tr>\n",
       "      <th>10129</th>\n",
       "      <td>1570</td>\n",
       "      <td>2022-03-09</td>\n",
       "      <td>1754.225098</td>\n",
       "      <td>1918.758301</td>\n",
       "      <td>1747.854126</td>\n",
       "      <td>1913.793213</td>\n",
       "      <td>1913.793213</td>\n",
       "      <td>65771052</td>\n",
       "      <td>MKR</td>\n",
       "    </tr>\n",
       "    <tr>\n",
       "      <th>10130</th>\n",
       "      <td>1571</td>\n",
       "      <td>2022-03-10</td>\n",
       "      <td>1912.570557</td>\n",
       "      <td>1914.414185</td>\n",
       "      <td>1765.506348</td>\n",
       "      <td>1773.745972</td>\n",
       "      <td>1773.745972</td>\n",
       "      <td>62791406</td>\n",
       "      <td>MKR</td>\n",
       "    </tr>\n",
       "    <tr>\n",
       "      <th>10131</th>\n",
       "      <td>1572</td>\n",
       "      <td>2022-03-11</td>\n",
       "      <td>1773.831665</td>\n",
       "      <td>1793.170654</td>\n",
       "      <td>1709.868164</td>\n",
       "      <td>1750.467651</td>\n",
       "      <td>1750.467651</td>\n",
       "      <td>56816724</td>\n",
       "      <td>MKR</td>\n",
       "    </tr>\n",
       "    <tr>\n",
       "      <th>10132</th>\n",
       "      <td>1573</td>\n",
       "      <td>2022-03-12</td>\n",
       "      <td>1750.544189</td>\n",
       "      <td>1788.684692</td>\n",
       "      <td>1744.583252</td>\n",
       "      <td>1744.610962</td>\n",
       "      <td>1744.610962</td>\n",
       "      <td>36075999</td>\n",
       "      <td>MKR</td>\n",
       "    </tr>\n",
       "    <tr>\n",
       "      <th>10133</th>\n",
       "      <td>1574</td>\n",
       "      <td>2022-03-13</td>\n",
       "      <td>1739.929932</td>\n",
       "      <td>1780.157715</td>\n",
       "      <td>1695.159424</td>\n",
       "      <td>1727.445068</td>\n",
       "      <td>1727.445068</td>\n",
       "      <td>40633560</td>\n",
       "      <td>MKR</td>\n",
       "    </tr>\n",
       "  </tbody>\n",
       "</table>\n",
       "<p>10134 rows × 9 columns</p>\n",
       "</div>"
      ],
      "text/plain": [
       "       Unnamed: 0        Date         Open         High          Low  \\\n",
       "0               0  2014-12-09   361.894989   363.066986   344.950989   \n",
       "1               1  2014-12-10   352.204987   352.384003   346.364990   \n",
       "2               2  2014-12-11   344.339996   361.356995   338.763000   \n",
       "3               3  2014-12-12   350.833008   352.983002   349.290985   \n",
       "4               4  2014-12-13   352.381012   352.381012   346.588013   \n",
       "...           ...         ...          ...          ...          ...   \n",
       "10129        1570  2022-03-09  1754.225098  1918.758301  1747.854126   \n",
       "10130        1571  2022-03-10  1912.570557  1914.414185  1765.506348   \n",
       "10131        1572  2022-03-11  1773.831665  1793.170654  1709.868164   \n",
       "10132        1573  2022-03-12  1750.544189  1788.684692  1744.583252   \n",
       "10133        1574  2022-03-13  1739.929932  1780.157715  1695.159424   \n",
       "\n",
       "             Close    Adj Close    Volume Crypto  \n",
       "0       352.218994   352.218994  32915500    BTC  \n",
       "1       346.364990   346.364990  16427700    BTC  \n",
       "2       350.506012   350.506012  32431300    BTC  \n",
       "3       352.541992   352.541992  16989800    BTC  \n",
       "4       347.376007   347.376007  11675900    BTC  \n",
       "...            ...          ...       ...    ...  \n",
       "10129  1913.793213  1913.793213  65771052    MKR  \n",
       "10130  1773.745972  1773.745972  62791406    MKR  \n",
       "10131  1750.467651  1750.467651  56816724    MKR  \n",
       "10132  1744.610962  1744.610962  36075999    MKR  \n",
       "10133  1727.445068  1727.445068  40633560    MKR  \n",
       "\n",
       "[10134 rows x 9 columns]"
      ]
     },
     "execution_count": 4,
     "metadata": {},
     "output_type": "execute_result"
    }
   ],
   "source": [
    "data"
   ]
  },
  {
   "cell_type": "code",
   "execution_count": 5,
   "id": "390da77d",
   "metadata": {},
   "outputs": [
    {
     "data": {
      "text/plain": [
       "Unnamed: 0    False\n",
       "Date          False\n",
       "Open          False\n",
       "High          False\n",
       "Low           False\n",
       "Close         False\n",
       "Adj Close     False\n",
       "Volume        False\n",
       "Crypto        False\n",
       "dtype: bool"
      ]
     },
     "execution_count": 5,
     "metadata": {},
     "output_type": "execute_result"
    }
   ],
   "source": [
    "data.isnull().any()"
   ]
  },
  {
   "cell_type": "code",
   "execution_count": 6,
   "id": "5c5c6044",
   "metadata": {},
   "outputs": [
    {
     "data": {
      "text/plain": [
       "Unnamed: 0    0\n",
       "Date          0\n",
       "Open          0\n",
       "High          0\n",
       "Low           0\n",
       "Close         0\n",
       "Adj Close     0\n",
       "Volume        0\n",
       "Crypto        0\n",
       "dtype: int64"
      ]
     },
     "execution_count": 6,
     "metadata": {},
     "output_type": "execute_result"
    }
   ],
   "source": [
    "data.isnull().sum()"
   ]
  },
  {
   "cell_type": "code",
   "execution_count": 7,
   "id": "dee4ff6c",
   "metadata": {},
   "outputs": [],
   "source": [
    "data.dropna(inplace =True)"
   ]
  },
  {
   "cell_type": "code",
   "execution_count": 8,
   "id": "4741dae8",
   "metadata": {},
   "outputs": [
    {
     "data": {
      "text/plain": [
       "Unnamed: 0    0\n",
       "Date          0\n",
       "Open          0\n",
       "High          0\n",
       "Low           0\n",
       "Close         0\n",
       "Adj Close     0\n",
       "Volume        0\n",
       "Crypto        0\n",
       "dtype: int64"
      ]
     },
     "execution_count": 8,
     "metadata": {},
     "output_type": "execute_result"
    }
   ],
   "source": [
    "data.isnull().sum()"
   ]
  },
  {
   "cell_type": "code",
   "execution_count": 9,
   "id": "858403b0",
   "metadata": {},
   "outputs": [
    {
     "data": {
      "text/plain": [
       "Index(['Unnamed: 0', 'Date', 'Open', 'High', 'Low', 'Close', 'Adj Close',\n",
       "       'Volume', 'Crypto'],\n",
       "      dtype='object')"
      ]
     },
     "execution_count": 9,
     "metadata": {},
     "output_type": "execute_result"
    }
   ],
   "source": [
    "data.columns"
   ]
  },
  {
   "cell_type": "code",
   "execution_count": 10,
   "id": "05315a8b",
   "metadata": {},
   "outputs": [
    {
     "data": {
      "text/html": [
       "<div>\n",
       "<style scoped>\n",
       "    .dataframe tbody tr th:only-of-type {\n",
       "        vertical-align: middle;\n",
       "    }\n",
       "\n",
       "    .dataframe tbody tr th {\n",
       "        vertical-align: top;\n",
       "    }\n",
       "\n",
       "    .dataframe thead th {\n",
       "        text-align: right;\n",
       "    }\n",
       "</style>\n",
       "<table border=\"1\" class=\"dataframe\">\n",
       "  <thead>\n",
       "    <tr style=\"text-align: right;\">\n",
       "      <th></th>\n",
       "      <th>Date</th>\n",
       "      <th>Open</th>\n",
       "      <th>High</th>\n",
       "      <th>Low</th>\n",
       "      <th>Close</th>\n",
       "      <th>Crypto</th>\n",
       "    </tr>\n",
       "  </thead>\n",
       "  <tbody>\n",
       "    <tr>\n",
       "      <th>0</th>\n",
       "      <td>2014-12-09</td>\n",
       "      <td>361.894989</td>\n",
       "      <td>363.066986</td>\n",
       "      <td>344.950989</td>\n",
       "      <td>352.218994</td>\n",
       "      <td>BTC</td>\n",
       "    </tr>\n",
       "    <tr>\n",
       "      <th>1</th>\n",
       "      <td>2014-12-10</td>\n",
       "      <td>352.204987</td>\n",
       "      <td>352.384003</td>\n",
       "      <td>346.364990</td>\n",
       "      <td>346.364990</td>\n",
       "      <td>BTC</td>\n",
       "    </tr>\n",
       "    <tr>\n",
       "      <th>2</th>\n",
       "      <td>2014-12-11</td>\n",
       "      <td>344.339996</td>\n",
       "      <td>361.356995</td>\n",
       "      <td>338.763000</td>\n",
       "      <td>350.506012</td>\n",
       "      <td>BTC</td>\n",
       "    </tr>\n",
       "    <tr>\n",
       "      <th>3</th>\n",
       "      <td>2014-12-12</td>\n",
       "      <td>350.833008</td>\n",
       "      <td>352.983002</td>\n",
       "      <td>349.290985</td>\n",
       "      <td>352.541992</td>\n",
       "      <td>BTC</td>\n",
       "    </tr>\n",
       "    <tr>\n",
       "      <th>4</th>\n",
       "      <td>2014-12-13</td>\n",
       "      <td>352.381012</td>\n",
       "      <td>352.381012</td>\n",
       "      <td>346.588013</td>\n",
       "      <td>347.376007</td>\n",
       "      <td>BTC</td>\n",
       "    </tr>\n",
       "    <tr>\n",
       "      <th>...</th>\n",
       "      <td>...</td>\n",
       "      <td>...</td>\n",
       "      <td>...</td>\n",
       "      <td>...</td>\n",
       "      <td>...</td>\n",
       "      <td>...</td>\n",
       "    </tr>\n",
       "    <tr>\n",
       "      <th>10129</th>\n",
       "      <td>2022-03-09</td>\n",
       "      <td>1754.225098</td>\n",
       "      <td>1918.758301</td>\n",
       "      <td>1747.854126</td>\n",
       "      <td>1913.793213</td>\n",
       "      <td>MKR</td>\n",
       "    </tr>\n",
       "    <tr>\n",
       "      <th>10130</th>\n",
       "      <td>2022-03-10</td>\n",
       "      <td>1912.570557</td>\n",
       "      <td>1914.414185</td>\n",
       "      <td>1765.506348</td>\n",
       "      <td>1773.745972</td>\n",
       "      <td>MKR</td>\n",
       "    </tr>\n",
       "    <tr>\n",
       "      <th>10131</th>\n",
       "      <td>2022-03-11</td>\n",
       "      <td>1773.831665</td>\n",
       "      <td>1793.170654</td>\n",
       "      <td>1709.868164</td>\n",
       "      <td>1750.467651</td>\n",
       "      <td>MKR</td>\n",
       "    </tr>\n",
       "    <tr>\n",
       "      <th>10132</th>\n",
       "      <td>2022-03-12</td>\n",
       "      <td>1750.544189</td>\n",
       "      <td>1788.684692</td>\n",
       "      <td>1744.583252</td>\n",
       "      <td>1744.610962</td>\n",
       "      <td>MKR</td>\n",
       "    </tr>\n",
       "    <tr>\n",
       "      <th>10133</th>\n",
       "      <td>2022-03-13</td>\n",
       "      <td>1739.929932</td>\n",
       "      <td>1780.157715</td>\n",
       "      <td>1695.159424</td>\n",
       "      <td>1727.445068</td>\n",
       "      <td>MKR</td>\n",
       "    </tr>\n",
       "  </tbody>\n",
       "</table>\n",
       "<p>10134 rows × 6 columns</p>\n",
       "</div>"
      ],
      "text/plain": [
       "             Date         Open         High          Low        Close Crypto\n",
       "0      2014-12-09   361.894989   363.066986   344.950989   352.218994    BTC\n",
       "1      2014-12-10   352.204987   352.384003   346.364990   346.364990    BTC\n",
       "2      2014-12-11   344.339996   361.356995   338.763000   350.506012    BTC\n",
       "3      2014-12-12   350.833008   352.983002   349.290985   352.541992    BTC\n",
       "4      2014-12-13   352.381012   352.381012   346.588013   347.376007    BTC\n",
       "...           ...          ...          ...          ...          ...    ...\n",
       "10129  2022-03-09  1754.225098  1918.758301  1747.854126  1913.793213    MKR\n",
       "10130  2022-03-10  1912.570557  1914.414185  1765.506348  1773.745972    MKR\n",
       "10131  2022-03-11  1773.831665  1793.170654  1709.868164  1750.467651    MKR\n",
       "10132  2022-03-12  1750.544189  1788.684692  1744.583252  1744.610962    MKR\n",
       "10133  2022-03-13  1739.929932  1780.157715  1695.159424  1727.445068    MKR\n",
       "\n",
       "[10134 rows x 6 columns]"
      ]
     },
     "execution_count": 10,
     "metadata": {},
     "output_type": "execute_result"
    }
   ],
   "source": [
    "data.drop(['Unnamed: 0', 'Adj Close','Volume' ],axis =1, inplace =True)\n",
    "data"
   ]
  },
  {
   "cell_type": "markdown",
   "id": "2e91d17d",
   "metadata": {},
   "source": [
    "# Make  target value in USD"
   ]
  },
  {
   "cell_type": "code",
   "execution_count": 11,
   "id": "2aeed38c",
   "metadata": {},
   "outputs": [],
   "source": [
    "#data[\"Today_USD\"] =  (data[\"Open\"] + data[\"Close\"] ) /2\n",
    "data[\"Today_USD\"] =  (data[\"Open\"])\n"
   ]
  },
  {
   "cell_type": "code",
   "execution_count": 12,
   "id": "094bffb2",
   "metadata": {},
   "outputs": [],
   "source": [
    "mkr = data[data[\"Crypto\"] == \"MKR\"]"
   ]
  },
  {
   "cell_type": "code",
   "execution_count": 13,
   "id": "a5f0ff0b",
   "metadata": {},
   "outputs": [],
   "source": [
    "mkr[\"Tomorrowopen\"] = mkr[\"Open\"].shift(-1)"
   ]
  },
  {
   "cell_type": "code",
   "execution_count": 14,
   "id": "78da64d0",
   "metadata": {},
   "outputs": [
    {
     "data": {
      "text/html": [
       "<div>\n",
       "<style scoped>\n",
       "    .dataframe tbody tr th:only-of-type {\n",
       "        vertical-align: middle;\n",
       "    }\n",
       "\n",
       "    .dataframe tbody tr th {\n",
       "        vertical-align: top;\n",
       "    }\n",
       "\n",
       "    .dataframe thead th {\n",
       "        text-align: right;\n",
       "    }\n",
       "</style>\n",
       "<table border=\"1\" class=\"dataframe\">\n",
       "  <thead>\n",
       "    <tr style=\"text-align: right;\">\n",
       "      <th></th>\n",
       "      <th>Date</th>\n",
       "      <th>Open</th>\n",
       "      <th>High</th>\n",
       "      <th>Low</th>\n",
       "      <th>Close</th>\n",
       "      <th>Crypto</th>\n",
       "      <th>Today_USD</th>\n",
       "      <th>Tomorrowopen</th>\n",
       "    </tr>\n",
       "  </thead>\n",
       "  <tbody>\n",
       "    <tr>\n",
       "      <th>10129</th>\n",
       "      <td>2022-03-09</td>\n",
       "      <td>1754.225098</td>\n",
       "      <td>1918.758301</td>\n",
       "      <td>1747.854126</td>\n",
       "      <td>1913.793213</td>\n",
       "      <td>MKR</td>\n",
       "      <td>1754.225098</td>\n",
       "      <td>1912.570557</td>\n",
       "    </tr>\n",
       "    <tr>\n",
       "      <th>10130</th>\n",
       "      <td>2022-03-10</td>\n",
       "      <td>1912.570557</td>\n",
       "      <td>1914.414185</td>\n",
       "      <td>1765.506348</td>\n",
       "      <td>1773.745972</td>\n",
       "      <td>MKR</td>\n",
       "      <td>1912.570557</td>\n",
       "      <td>1773.831665</td>\n",
       "    </tr>\n",
       "    <tr>\n",
       "      <th>10131</th>\n",
       "      <td>2022-03-11</td>\n",
       "      <td>1773.831665</td>\n",
       "      <td>1793.170654</td>\n",
       "      <td>1709.868164</td>\n",
       "      <td>1750.467651</td>\n",
       "      <td>MKR</td>\n",
       "      <td>1773.831665</td>\n",
       "      <td>1750.544189</td>\n",
       "    </tr>\n",
       "    <tr>\n",
       "      <th>10132</th>\n",
       "      <td>2022-03-12</td>\n",
       "      <td>1750.544189</td>\n",
       "      <td>1788.684692</td>\n",
       "      <td>1744.583252</td>\n",
       "      <td>1744.610962</td>\n",
       "      <td>MKR</td>\n",
       "      <td>1750.544189</td>\n",
       "      <td>1739.929932</td>\n",
       "    </tr>\n",
       "    <tr>\n",
       "      <th>10133</th>\n",
       "      <td>2022-03-13</td>\n",
       "      <td>1739.929932</td>\n",
       "      <td>1780.157715</td>\n",
       "      <td>1695.159424</td>\n",
       "      <td>1727.445068</td>\n",
       "      <td>MKR</td>\n",
       "      <td>1739.929932</td>\n",
       "      <td>NaN</td>\n",
       "    </tr>\n",
       "  </tbody>\n",
       "</table>\n",
       "</div>"
      ],
      "text/plain": [
       "             Date         Open         High          Low        Close Crypto  \\\n",
       "10129  2022-03-09  1754.225098  1918.758301  1747.854126  1913.793213    MKR   \n",
       "10130  2022-03-10  1912.570557  1914.414185  1765.506348  1773.745972    MKR   \n",
       "10131  2022-03-11  1773.831665  1793.170654  1709.868164  1750.467651    MKR   \n",
       "10132  2022-03-12  1750.544189  1788.684692  1744.583252  1744.610962    MKR   \n",
       "10133  2022-03-13  1739.929932  1780.157715  1695.159424  1727.445068    MKR   \n",
       "\n",
       "         Today_USD  Tomorrowopen  \n",
       "10129  1754.225098   1912.570557  \n",
       "10130  1912.570557   1773.831665  \n",
       "10131  1773.831665   1750.544189  \n",
       "10132  1750.544189   1739.929932  \n",
       "10133  1739.929932           NaN  "
      ]
     },
     "execution_count": 14,
     "metadata": {},
     "output_type": "execute_result"
    }
   ],
   "source": [
    "mkr.tail()"
   ]
  },
  {
   "cell_type": "code",
   "execution_count": 15,
   "id": "d7419fbc",
   "metadata": {},
   "outputs": [
    {
     "data": {
      "text/html": [
       "<div>\n",
       "<style scoped>\n",
       "    .dataframe tbody tr th:only-of-type {\n",
       "        vertical-align: middle;\n",
       "    }\n",
       "\n",
       "    .dataframe tbody tr th {\n",
       "        vertical-align: top;\n",
       "    }\n",
       "\n",
       "    .dataframe thead th {\n",
       "        text-align: right;\n",
       "    }\n",
       "</style>\n",
       "<table border=\"1\" class=\"dataframe\">\n",
       "  <thead>\n",
       "    <tr style=\"text-align: right;\">\n",
       "      <th></th>\n",
       "      <th>Date</th>\n",
       "      <th>Open</th>\n",
       "      <th>High</th>\n",
       "      <th>Low</th>\n",
       "      <th>Close</th>\n",
       "      <th>Crypto</th>\n",
       "      <th>Today_USD</th>\n",
       "      <th>Tomorrowopen</th>\n",
       "    </tr>\n",
       "  </thead>\n",
       "  <tbody>\n",
       "    <tr>\n",
       "      <th>8559</th>\n",
       "      <td>2017-11-20</td>\n",
       "      <td>252.481995</td>\n",
       "      <td>278.230988</td>\n",
       "      <td>252.401993</td>\n",
       "      <td>272.449005</td>\n",
       "      <td>MKR</td>\n",
       "      <td>252.481995</td>\n",
       "      <td>272.019989</td>\n",
       "    </tr>\n",
       "    <tr>\n",
       "      <th>8560</th>\n",
       "      <td>2017-11-21</td>\n",
       "      <td>272.019989</td>\n",
       "      <td>288.925995</td>\n",
       "      <td>260.019012</td>\n",
       "      <td>279.920013</td>\n",
       "      <td>MKR</td>\n",
       "      <td>272.019989</td>\n",
       "      <td>280.277008</td>\n",
       "    </tr>\n",
       "    <tr>\n",
       "      <th>8561</th>\n",
       "      <td>2017-11-22</td>\n",
       "      <td>280.277008</td>\n",
       "      <td>400.648987</td>\n",
       "      <td>280.050995</td>\n",
       "      <td>326.191986</td>\n",
       "      <td>MKR</td>\n",
       "      <td>280.277008</td>\n",
       "      <td>326.941986</td>\n",
       "    </tr>\n",
       "    <tr>\n",
       "      <th>8562</th>\n",
       "      <td>2017-11-23</td>\n",
       "      <td>326.941986</td>\n",
       "      <td>359.498993</td>\n",
       "      <td>320.864990</td>\n",
       "      <td>347.436005</td>\n",
       "      <td>MKR</td>\n",
       "      <td>326.941986</td>\n",
       "      <td>345.696991</td>\n",
       "    </tr>\n",
       "    <tr>\n",
       "      <th>8563</th>\n",
       "      <td>2017-11-24</td>\n",
       "      <td>345.696991</td>\n",
       "      <td>408.135010</td>\n",
       "      <td>339.252991</td>\n",
       "      <td>401.825012</td>\n",
       "      <td>MKR</td>\n",
       "      <td>345.696991</td>\n",
       "      <td>401.759003</td>\n",
       "    </tr>\n",
       "    <tr>\n",
       "      <th>...</th>\n",
       "      <td>...</td>\n",
       "      <td>...</td>\n",
       "      <td>...</td>\n",
       "      <td>...</td>\n",
       "      <td>...</td>\n",
       "      <td>...</td>\n",
       "      <td>...</td>\n",
       "      <td>...</td>\n",
       "    </tr>\n",
       "    <tr>\n",
       "      <th>10129</th>\n",
       "      <td>2022-03-09</td>\n",
       "      <td>1754.225098</td>\n",
       "      <td>1918.758301</td>\n",
       "      <td>1747.854126</td>\n",
       "      <td>1913.793213</td>\n",
       "      <td>MKR</td>\n",
       "      <td>1754.225098</td>\n",
       "      <td>1912.570557</td>\n",
       "    </tr>\n",
       "    <tr>\n",
       "      <th>10130</th>\n",
       "      <td>2022-03-10</td>\n",
       "      <td>1912.570557</td>\n",
       "      <td>1914.414185</td>\n",
       "      <td>1765.506348</td>\n",
       "      <td>1773.745972</td>\n",
       "      <td>MKR</td>\n",
       "      <td>1912.570557</td>\n",
       "      <td>1773.831665</td>\n",
       "    </tr>\n",
       "    <tr>\n",
       "      <th>10131</th>\n",
       "      <td>2022-03-11</td>\n",
       "      <td>1773.831665</td>\n",
       "      <td>1793.170654</td>\n",
       "      <td>1709.868164</td>\n",
       "      <td>1750.467651</td>\n",
       "      <td>MKR</td>\n",
       "      <td>1773.831665</td>\n",
       "      <td>1750.544189</td>\n",
       "    </tr>\n",
       "    <tr>\n",
       "      <th>10132</th>\n",
       "      <td>2022-03-12</td>\n",
       "      <td>1750.544189</td>\n",
       "      <td>1788.684692</td>\n",
       "      <td>1744.583252</td>\n",
       "      <td>1744.610962</td>\n",
       "      <td>MKR</td>\n",
       "      <td>1750.544189</td>\n",
       "      <td>1739.929932</td>\n",
       "    </tr>\n",
       "    <tr>\n",
       "      <th>10133</th>\n",
       "      <td>2022-03-13</td>\n",
       "      <td>1739.929932</td>\n",
       "      <td>1780.157715</td>\n",
       "      <td>1695.159424</td>\n",
       "      <td>1727.445068</td>\n",
       "      <td>MKR</td>\n",
       "      <td>1739.929932</td>\n",
       "      <td>NaN</td>\n",
       "    </tr>\n",
       "  </tbody>\n",
       "</table>\n",
       "<p>1575 rows × 8 columns</p>\n",
       "</div>"
      ],
      "text/plain": [
       "             Date         Open         High          Low        Close Crypto  \\\n",
       "8559   2017-11-20   252.481995   278.230988   252.401993   272.449005    MKR   \n",
       "8560   2017-11-21   272.019989   288.925995   260.019012   279.920013    MKR   \n",
       "8561   2017-11-22   280.277008   400.648987   280.050995   326.191986    MKR   \n",
       "8562   2017-11-23   326.941986   359.498993   320.864990   347.436005    MKR   \n",
       "8563   2017-11-24   345.696991   408.135010   339.252991   401.825012    MKR   \n",
       "...           ...          ...          ...          ...          ...    ...   \n",
       "10129  2022-03-09  1754.225098  1918.758301  1747.854126  1913.793213    MKR   \n",
       "10130  2022-03-10  1912.570557  1914.414185  1765.506348  1773.745972    MKR   \n",
       "10131  2022-03-11  1773.831665  1793.170654  1709.868164  1750.467651    MKR   \n",
       "10132  2022-03-12  1750.544189  1788.684692  1744.583252  1744.610962    MKR   \n",
       "10133  2022-03-13  1739.929932  1780.157715  1695.159424  1727.445068    MKR   \n",
       "\n",
       "         Today_USD  Tomorrowopen  \n",
       "8559    252.481995    272.019989  \n",
       "8560    272.019989    280.277008  \n",
       "8561    280.277008    326.941986  \n",
       "8562    326.941986    345.696991  \n",
       "8563    345.696991    401.759003  \n",
       "...            ...           ...  \n",
       "10129  1754.225098   1912.570557  \n",
       "10130  1912.570557   1773.831665  \n",
       "10131  1773.831665   1750.544189  \n",
       "10132  1750.544189   1739.929932  \n",
       "10133  1739.929932           NaN  \n",
       "\n",
       "[1575 rows x 8 columns]"
      ]
     },
     "execution_count": 15,
     "metadata": {},
     "output_type": "execute_result"
    }
   ],
   "source": [
    "mkr"
   ]
  },
  {
   "cell_type": "code",
   "execution_count": 16,
   "id": "b54f16d5",
   "metadata": {},
   "outputs": [
    {
     "data": {
      "text/html": [
       "<div>\n",
       "<style scoped>\n",
       "    .dataframe tbody tr th:only-of-type {\n",
       "        vertical-align: middle;\n",
       "    }\n",
       "\n",
       "    .dataframe tbody tr th {\n",
       "        vertical-align: top;\n",
       "    }\n",
       "\n",
       "    .dataframe thead th {\n",
       "        text-align: right;\n",
       "    }\n",
       "</style>\n",
       "<table border=\"1\" class=\"dataframe\">\n",
       "  <thead>\n",
       "    <tr style=\"text-align: right;\">\n",
       "      <th></th>\n",
       "      <th>Date</th>\n",
       "      <th>Open</th>\n",
       "      <th>High</th>\n",
       "      <th>Low</th>\n",
       "      <th>Close</th>\n",
       "      <th>Crypto</th>\n",
       "      <th>Today_USD</th>\n",
       "    </tr>\n",
       "  </thead>\n",
       "  <tbody>\n",
       "    <tr>\n",
       "      <th>8559</th>\n",
       "      <td>2017-11-20</td>\n",
       "      <td>252.481995</td>\n",
       "      <td>278.230988</td>\n",
       "      <td>252.401993</td>\n",
       "      <td>272.449005</td>\n",
       "      <td>MKR</td>\n",
       "      <td>252.481995</td>\n",
       "    </tr>\n",
       "    <tr>\n",
       "      <th>8560</th>\n",
       "      <td>2017-11-21</td>\n",
       "      <td>272.019989</td>\n",
       "      <td>288.925995</td>\n",
       "      <td>260.019012</td>\n",
       "      <td>279.920013</td>\n",
       "      <td>MKR</td>\n",
       "      <td>272.019989</td>\n",
       "    </tr>\n",
       "    <tr>\n",
       "      <th>8561</th>\n",
       "      <td>2017-11-22</td>\n",
       "      <td>280.277008</td>\n",
       "      <td>400.648987</td>\n",
       "      <td>280.050995</td>\n",
       "      <td>326.191986</td>\n",
       "      <td>MKR</td>\n",
       "      <td>280.277008</td>\n",
       "    </tr>\n",
       "    <tr>\n",
       "      <th>8562</th>\n",
       "      <td>2017-11-23</td>\n",
       "      <td>326.941986</td>\n",
       "      <td>359.498993</td>\n",
       "      <td>320.864990</td>\n",
       "      <td>347.436005</td>\n",
       "      <td>MKR</td>\n",
       "      <td>326.941986</td>\n",
       "    </tr>\n",
       "    <tr>\n",
       "      <th>8563</th>\n",
       "      <td>2017-11-24</td>\n",
       "      <td>345.696991</td>\n",
       "      <td>408.135010</td>\n",
       "      <td>339.252991</td>\n",
       "      <td>401.825012</td>\n",
       "      <td>MKR</td>\n",
       "      <td>345.696991</td>\n",
       "    </tr>\n",
       "    <tr>\n",
       "      <th>...</th>\n",
       "      <td>...</td>\n",
       "      <td>...</td>\n",
       "      <td>...</td>\n",
       "      <td>...</td>\n",
       "      <td>...</td>\n",
       "      <td>...</td>\n",
       "      <td>...</td>\n",
       "    </tr>\n",
       "    <tr>\n",
       "      <th>10129</th>\n",
       "      <td>2022-03-09</td>\n",
       "      <td>1754.225098</td>\n",
       "      <td>1918.758301</td>\n",
       "      <td>1747.854126</td>\n",
       "      <td>1913.793213</td>\n",
       "      <td>MKR</td>\n",
       "      <td>1754.225098</td>\n",
       "    </tr>\n",
       "    <tr>\n",
       "      <th>10130</th>\n",
       "      <td>2022-03-10</td>\n",
       "      <td>1912.570557</td>\n",
       "      <td>1914.414185</td>\n",
       "      <td>1765.506348</td>\n",
       "      <td>1773.745972</td>\n",
       "      <td>MKR</td>\n",
       "      <td>1912.570557</td>\n",
       "    </tr>\n",
       "    <tr>\n",
       "      <th>10131</th>\n",
       "      <td>2022-03-11</td>\n",
       "      <td>1773.831665</td>\n",
       "      <td>1793.170654</td>\n",
       "      <td>1709.868164</td>\n",
       "      <td>1750.467651</td>\n",
       "      <td>MKR</td>\n",
       "      <td>1773.831665</td>\n",
       "    </tr>\n",
       "    <tr>\n",
       "      <th>10132</th>\n",
       "      <td>2022-03-12</td>\n",
       "      <td>1750.544189</td>\n",
       "      <td>1788.684692</td>\n",
       "      <td>1744.583252</td>\n",
       "      <td>1744.610962</td>\n",
       "      <td>MKR</td>\n",
       "      <td>1750.544189</td>\n",
       "    </tr>\n",
       "    <tr>\n",
       "      <th>10133</th>\n",
       "      <td>2022-03-13</td>\n",
       "      <td>1739.929932</td>\n",
       "      <td>1780.157715</td>\n",
       "      <td>1695.159424</td>\n",
       "      <td>1727.445068</td>\n",
       "      <td>MKR</td>\n",
       "      <td>1739.929932</td>\n",
       "    </tr>\n",
       "  </tbody>\n",
       "</table>\n",
       "<p>1575 rows × 7 columns</p>\n",
       "</div>"
      ],
      "text/plain": [
       "             Date         Open         High          Low        Close Crypto  \\\n",
       "8559   2017-11-20   252.481995   278.230988   252.401993   272.449005    MKR   \n",
       "8560   2017-11-21   272.019989   288.925995   260.019012   279.920013    MKR   \n",
       "8561   2017-11-22   280.277008   400.648987   280.050995   326.191986    MKR   \n",
       "8562   2017-11-23   326.941986   359.498993   320.864990   347.436005    MKR   \n",
       "8563   2017-11-24   345.696991   408.135010   339.252991   401.825012    MKR   \n",
       "...           ...          ...          ...          ...          ...    ...   \n",
       "10129  2022-03-09  1754.225098  1918.758301  1747.854126  1913.793213    MKR   \n",
       "10130  2022-03-10  1912.570557  1914.414185  1765.506348  1773.745972    MKR   \n",
       "10131  2022-03-11  1773.831665  1793.170654  1709.868164  1750.467651    MKR   \n",
       "10132  2022-03-12  1750.544189  1788.684692  1744.583252  1744.610962    MKR   \n",
       "10133  2022-03-13  1739.929932  1780.157715  1695.159424  1727.445068    MKR   \n",
       "\n",
       "         Today_USD  \n",
       "8559    252.481995  \n",
       "8560    272.019989  \n",
       "8561    280.277008  \n",
       "8562    326.941986  \n",
       "8563    345.696991  \n",
       "...            ...  \n",
       "10129  1754.225098  \n",
       "10130  1912.570557  \n",
       "10131  1773.831665  \n",
       "10132  1750.544189  \n",
       "10133  1739.929932  \n",
       "\n",
       "[1575 rows x 7 columns]"
      ]
     },
     "execution_count": 16,
     "metadata": {},
     "output_type": "execute_result"
    }
   ],
   "source": [
    "data[data[\"Crypto\"] == 'MKR']"
   ]
  },
  {
   "cell_type": "code",
   "execution_count": 17,
   "id": "933b8167",
   "metadata": {},
   "outputs": [
    {
     "data": {
      "text/plain": [
       "array(['BTC', 'LTC', 'BNB', 'ETH', 'MKR'], dtype=object)"
      ]
     },
     "execution_count": 17,
     "metadata": {},
     "output_type": "execute_result"
    }
   ],
   "source": [
    "data[\"Crypto\"].unique()"
   ]
  },
  {
   "cell_type": "code",
   "execution_count": 18,
   "id": "b55710ad",
   "metadata": {},
   "outputs": [],
   "source": [
    "# making tomorrow result \n",
    "for id, crip in enumerate(data[\"Crypto\"].unique()):\n",
    "    ind_cript = data[data[\"Crypto\"] == crip]\n",
    "    ind_cript[\"Tomorrow_price(USD)\"] =ind_cript[\"Today_USD\"].shift(-1) \n",
    "    ind_cript.head()\n",
    "    ind_cript.dropna(inplace =True)\n",
    "    if (id ==0 ):\n",
    "        BTC =ind_cript\n",
    "    elif (id ==1 ):\n",
    "        ADA = ind_cript\n",
    "    elif (id == 2 ):\n",
    "        BNB = ind_cript\n",
    "    elif (id == 3 ):\n",
    "        ETH = ind_cript\n",
    "    elif (id == 4 ):\n",
    "        USDT = ind_cript\n",
    "        \n",
    "\n",
    "file = pd.concat([BTC,ETH, BNB, ADA, USDT])\n",
    "#files = pd.concat([BTC,ETH, BNB])"
   ]
  },
  {
   "cell_type": "code",
   "execution_count": 19,
   "id": "f7f01f9b",
   "metadata": {},
   "outputs": [
    {
     "data": {
      "text/html": [
       "<div>\n",
       "<style scoped>\n",
       "    .dataframe tbody tr th:only-of-type {\n",
       "        vertical-align: middle;\n",
       "    }\n",
       "\n",
       "    .dataframe tbody tr th {\n",
       "        vertical-align: top;\n",
       "    }\n",
       "\n",
       "    .dataframe thead th {\n",
       "        text-align: right;\n",
       "    }\n",
       "</style>\n",
       "<table border=\"1\" class=\"dataframe\">\n",
       "  <thead>\n",
       "    <tr style=\"text-align: right;\">\n",
       "      <th></th>\n",
       "      <th>Date</th>\n",
       "      <th>Open</th>\n",
       "      <th>High</th>\n",
       "      <th>Low</th>\n",
       "      <th>Close</th>\n",
       "      <th>Crypto</th>\n",
       "      <th>Today_USD</th>\n",
       "      <th>Tomorrow_price(USD)</th>\n",
       "    </tr>\n",
       "  </thead>\n",
       "  <tbody>\n",
       "    <tr>\n",
       "      <th>10128</th>\n",
       "      <td>2022-03-08</td>\n",
       "      <td>1745.794800</td>\n",
       "      <td>1790.965698</td>\n",
       "      <td>1722.096802</td>\n",
       "      <td>1754.612671</td>\n",
       "      <td>MKR</td>\n",
       "      <td>1745.794800</td>\n",
       "      <td>1754.225098</td>\n",
       "    </tr>\n",
       "    <tr>\n",
       "      <th>10129</th>\n",
       "      <td>2022-03-09</td>\n",
       "      <td>1754.225098</td>\n",
       "      <td>1918.758301</td>\n",
       "      <td>1747.854126</td>\n",
       "      <td>1913.793213</td>\n",
       "      <td>MKR</td>\n",
       "      <td>1754.225098</td>\n",
       "      <td>1912.570557</td>\n",
       "    </tr>\n",
       "    <tr>\n",
       "      <th>10130</th>\n",
       "      <td>2022-03-10</td>\n",
       "      <td>1912.570557</td>\n",
       "      <td>1914.414185</td>\n",
       "      <td>1765.506348</td>\n",
       "      <td>1773.745972</td>\n",
       "      <td>MKR</td>\n",
       "      <td>1912.570557</td>\n",
       "      <td>1773.831665</td>\n",
       "    </tr>\n",
       "    <tr>\n",
       "      <th>10131</th>\n",
       "      <td>2022-03-11</td>\n",
       "      <td>1773.831665</td>\n",
       "      <td>1793.170654</td>\n",
       "      <td>1709.868164</td>\n",
       "      <td>1750.467651</td>\n",
       "      <td>MKR</td>\n",
       "      <td>1773.831665</td>\n",
       "      <td>1750.544189</td>\n",
       "    </tr>\n",
       "    <tr>\n",
       "      <th>10132</th>\n",
       "      <td>2022-03-12</td>\n",
       "      <td>1750.544189</td>\n",
       "      <td>1788.684692</td>\n",
       "      <td>1744.583252</td>\n",
       "      <td>1744.610962</td>\n",
       "      <td>MKR</td>\n",
       "      <td>1750.544189</td>\n",
       "      <td>1739.929932</td>\n",
       "    </tr>\n",
       "  </tbody>\n",
       "</table>\n",
       "</div>"
      ],
      "text/plain": [
       "             Date         Open         High          Low        Close Crypto  \\\n",
       "10128  2022-03-08  1745.794800  1790.965698  1722.096802  1754.612671    MKR   \n",
       "10129  2022-03-09  1754.225098  1918.758301  1747.854126  1913.793213    MKR   \n",
       "10130  2022-03-10  1912.570557  1914.414185  1765.506348  1773.745972    MKR   \n",
       "10131  2022-03-11  1773.831665  1793.170654  1709.868164  1750.467651    MKR   \n",
       "10132  2022-03-12  1750.544189  1788.684692  1744.583252  1744.610962    MKR   \n",
       "\n",
       "         Today_USD  Tomorrow_price(USD)  \n",
       "10128  1745.794800          1754.225098  \n",
       "10129  1754.225098          1912.570557  \n",
       "10130  1912.570557          1773.831665  \n",
       "10131  1773.831665          1750.544189  \n",
       "10132  1750.544189          1739.929932  "
      ]
     },
     "execution_count": 19,
     "metadata": {},
     "output_type": "execute_result"
    }
   ],
   "source": [
    "file.tail()"
   ]
  },
  {
   "cell_type": "code",
   "execution_count": 20,
   "id": "393dffaf",
   "metadata": {},
   "outputs": [
    {
     "name": "stdout",
     "output_type": "stream",
     "text": [
      "The Crypto  BTC  is = 0\n",
      "The Crypto  LTC  is = 1\n",
      "The Crypto  BNB  is = 2\n",
      "The Crypto  ETH  is = 3\n",
      "The Crypto  MKR  is = 4\n"
     ]
    }
   ],
   "source": [
    "for x, y in enumerate(data[\"Crypto\"].unique()):\n",
    "    file[\"Crypto\"] = file[\"Crypto\"].replace({y:  x})\n",
    "    print(\"The Crypto \", y, \" is =\", x)\n",
    "    "
   ]
  },
  {
   "cell_type": "code",
   "execution_count": 21,
   "id": "6dd8ca07",
   "metadata": {},
   "outputs": [
    {
     "data": {
      "text/plain": [
       "array([0, 3, 2, 1, 4], dtype=int64)"
      ]
     },
     "execution_count": 21,
     "metadata": {},
     "output_type": "execute_result"
    }
   ],
   "source": [
    "file[\"Crypto\"].unique()"
   ]
  },
  {
   "cell_type": "code",
   "execution_count": 22,
   "id": "e656e6de",
   "metadata": {},
   "outputs": [
    {
     "data": {
      "text/plain": [
       "Index(['Date', 'Open', 'High', 'Low', 'Close', 'Crypto', 'Today_USD',\n",
       "       'Tomorrow_price(USD)'],\n",
       "      dtype='object')"
      ]
     },
     "execution_count": 22,
     "metadata": {},
     "output_type": "execute_result"
    }
   ],
   "source": [
    "file.columns"
   ]
  },
  {
   "cell_type": "code",
   "execution_count": 23,
   "id": "2f5d1d58",
   "metadata": {},
   "outputs": [],
   "source": [
    "file.drop([\"Date\",\"Today_USD\"], inplace =True, axis =True)"
   ]
  },
  {
   "cell_type": "markdown",
   "id": "2bc90851",
   "metadata": {},
   "source": [
    "# Scaling"
   ]
  },
  {
   "cell_type": "code",
   "execution_count": 24,
   "id": "ec53c4dc",
   "metadata": {},
   "outputs": [
    {
     "data": {
      "text/html": [
       "<div>\n",
       "<style scoped>\n",
       "    .dataframe tbody tr th:only-of-type {\n",
       "        vertical-align: middle;\n",
       "    }\n",
       "\n",
       "    .dataframe tbody tr th {\n",
       "        vertical-align: top;\n",
       "    }\n",
       "\n",
       "    .dataframe thead th {\n",
       "        text-align: right;\n",
       "    }\n",
       "</style>\n",
       "<table border=\"1\" class=\"dataframe\">\n",
       "  <thead>\n",
       "    <tr style=\"text-align: right;\">\n",
       "      <th></th>\n",
       "      <th>Open</th>\n",
       "      <th>High</th>\n",
       "      <th>Low</th>\n",
       "      <th>Close</th>\n",
       "      <th>Crypto</th>\n",
       "      <th>Tomorrow_price(USD)</th>\n",
       "    </tr>\n",
       "  </thead>\n",
       "  <tbody>\n",
       "    <tr>\n",
       "      <th>0</th>\n",
       "      <td>361.894989</td>\n",
       "      <td>363.066986</td>\n",
       "      <td>344.950989</td>\n",
       "      <td>352.218994</td>\n",
       "      <td>0</td>\n",
       "      <td>352.204987</td>\n",
       "    </tr>\n",
       "    <tr>\n",
       "      <th>1</th>\n",
       "      <td>352.204987</td>\n",
       "      <td>352.384003</td>\n",
       "      <td>346.364990</td>\n",
       "      <td>346.364990</td>\n",
       "      <td>0</td>\n",
       "      <td>344.339996</td>\n",
       "    </tr>\n",
       "    <tr>\n",
       "      <th>2</th>\n",
       "      <td>344.339996</td>\n",
       "      <td>361.356995</td>\n",
       "      <td>338.763000</td>\n",
       "      <td>350.506012</td>\n",
       "      <td>0</td>\n",
       "      <td>350.833008</td>\n",
       "    </tr>\n",
       "    <tr>\n",
       "      <th>3</th>\n",
       "      <td>350.833008</td>\n",
       "      <td>352.983002</td>\n",
       "      <td>349.290985</td>\n",
       "      <td>352.541992</td>\n",
       "      <td>0</td>\n",
       "      <td>352.381012</td>\n",
       "    </tr>\n",
       "    <tr>\n",
       "      <th>4</th>\n",
       "      <td>352.381012</td>\n",
       "      <td>352.381012</td>\n",
       "      <td>346.588013</td>\n",
       "      <td>347.376007</td>\n",
       "      <td>0</td>\n",
       "      <td>346.726990</td>\n",
       "    </tr>\n",
       "  </tbody>\n",
       "</table>\n",
       "</div>"
      ],
      "text/plain": [
       "         Open        High         Low       Close  Crypto  Tomorrow_price(USD)\n",
       "0  361.894989  363.066986  344.950989  352.218994       0           352.204987\n",
       "1  352.204987  352.384003  346.364990  346.364990       0           344.339996\n",
       "2  344.339996  361.356995  338.763000  350.506012       0           350.833008\n",
       "3  350.833008  352.983002  349.290985  352.541992       0           352.381012\n",
       "4  352.381012  352.381012  346.588013  347.376007       0           346.726990"
      ]
     },
     "execution_count": 24,
     "metadata": {},
     "output_type": "execute_result"
    }
   ],
   "source": [
    "file.head()"
   ]
  },
  {
   "cell_type": "code",
   "execution_count": 25,
   "id": "7ea5ac61",
   "metadata": {},
   "outputs": [],
   "source": [
    "from sklearn.model_selection import train_test_split\n",
    "\n",
    "X = file.iloc[:,:-1]\n",
    "Y = file.iloc[:,-1]"
   ]
  },
  {
   "cell_type": "code",
   "execution_count": 26,
   "id": "fa20ea37",
   "metadata": {},
   "outputs": [],
   "source": [
    "#X.to_csv(\"Crypto_input.csv\")"
   ]
  },
  {
   "cell_type": "code",
   "execution_count": 27,
   "id": "df0d6784",
   "metadata": {},
   "outputs": [
    {
     "data": {
      "text/plain": [
       "(array([[0.00534048, 0.00525849, 0.00517976, 0.00519586, 0.        ],\n",
       "        [0.00519703, 0.00510318, 0.00520106, 0.00510922, 0.        ],\n",
       "        [0.00508059, 0.00523363, 0.00508654, 0.00517051, 0.        ],\n",
       "        ...,\n",
       "        [0.02829693, 0.02781098, 0.0265798 , 0.02623505, 1.        ],\n",
       "        [0.02624301, 0.02604842, 0.02574164, 0.02589052, 1.        ],\n",
       "        [0.02589826, 0.0259832 , 0.02626461, 0.02580384, 1.        ]]),\n",
       " array([[0.00519703],\n",
       "        [0.00508059],\n",
       "        [0.00517672],\n",
       "        ...,\n",
       "        [0.02624301],\n",
       "        [0.02589826],\n",
       "        [0.02574113]]))"
      ]
     },
     "execution_count": 27,
     "metadata": {},
     "output_type": "execute_result"
    }
   ],
   "source": [
    "from sklearn.preprocessing import MinMaxScaler\n",
    "#sc = MinMaxScaler()\n",
    "scaler_x = MinMaxScaler()\n",
    "scaler_y = MinMaxScaler()\n",
    "\n",
    "scaler_x.fit(X)\n",
    "X_sc = scaler_x.transform(X)\n",
    "Y_sc = scaler_y.fit(file[[\"Tomorrow_price(USD)\"]])\n",
    "Y_sc =scaler_y.fit_transform(file[[\"Tomorrow_price(USD)\"]])\n",
    "X_sc,Y_sc\n"
   ]
  },
  {
   "cell_type": "code",
   "execution_count": 28,
   "id": "79f10bd9",
   "metadata": {},
   "outputs": [],
   "source": [
    "#X,Y"
   ]
  },
  {
   "cell_type": "code",
   "execution_count": 29,
   "id": "22c542b4",
   "metadata": {},
   "outputs": [],
   "source": [
    "#scaler_x.inverse_transform(X_sc)\n",
    "#scaler_y.inverse_transform(Y_sc)\n"
   ]
  },
  {
   "cell_type": "code",
   "execution_count": 30,
   "id": "34fc861a",
   "metadata": {},
   "outputs": [],
   "source": [
    "X_train,X_test, Y_train, Y_test = train_test_split( X_sc, Y_sc,test_size = 0.2, random_state = 42)"
   ]
  },
  {
   "cell_type": "markdown",
   "id": "c67f98d0",
   "metadata": {},
   "source": [
    "# machine learning algarithams comparitions"
   ]
  },
  {
   "cell_type": "code",
   "execution_count": 31,
   "id": "fad789f4",
   "metadata": {
    "scrolled": false
   },
   "outputs": [],
   "source": [
    "#conda install -c conda-forge xgboost"
   ]
  },
  {
   "cell_type": "code",
   "execution_count": 32,
   "id": "399bc428",
   "metadata": {},
   "outputs": [],
   "source": [
    "from sklearn.linear_model import LinearRegression\n",
    "from sklearn.svm import SVR\n",
    "from sklearn.linear_model import SGDRegressor\n",
    "from sklearn.linear_model import Lasso\n",
    "from xgboost import XGBRegressor\n",
    "#from xgboost import XGBRegressor\n",
    "from sklearn.linear_model import Ridge \n",
    "from sklearn.ensemble import RandomForestRegressor \n",
    "lr = LinearRegression()\n",
    "svr =SVR()\n",
    "sgdr = SGDRegressor()\n",
    "ls = Lasso()\n",
    "xgbr = XGBRegressor()\n",
    "r = Ridge()\n",
    "rfr = RandomForestRegressor()\n",
    "\n",
    "alg = [lr, svr, sgdr, ls, xgbr, r,rfr]"
   ]
  },
  {
   "cell_type": "code",
   "execution_count": 33,
   "id": "39893989",
   "metadata": {},
   "outputs": [],
   "source": [
    "from sklearn.metrics import mean_squared_error\n",
    "from sklearn.metrics import mean_absolute_error\n",
    "from sklearn.metrics import r2_score\n",
    "\n",
    "from math import sqrt\n",
    "\n",
    "#rms = sqrt(mean_squared_error(y_actual, y_predicted))"
   ]
  },
  {
   "cell_type": "code",
   "execution_count": 34,
   "id": "4b678d19",
   "metadata": {},
   "outputs": [
    {
     "name": "stdout",
     "output_type": "stream",
     "text": [
      "LinearRegression() \n",
      " mse =  169.6051794100677 ;\n",
      " rms =  13.02325533075612 \n",
      " mae =  3.407315525480733 \n",
      " R2 =  0.9999980915293532\n",
      "\n",
      "SVR() \n",
      " mse =  32043572.35902993 ;\n",
      " rms =  5660.704228188391 \n",
      " mae =  5442.573518031421 \n",
      " R2 =  0.6394319001426716\n",
      "\n",
      "SGDRegressor() \n",
      " mse =  165539.0234157648 ;\n",
      " rms =  406.8648711989827 \n",
      " mae =  287.0502586864981 \n",
      " R2 =  0.9981372834945964\n",
      "\n",
      "Lasso() \n",
      " mse =  88921964.02494724 ;\n",
      " rms =  9429.844326654988 \n",
      " mae =  4856.872917291782 \n",
      " R2 =  -0.0005883003560214206\n",
      "\n",
      "XGBRegressor(base_score=0.5, booster='gbtree', colsample_bylevel=1,\n",
      "             colsample_bynode=1, colsample_bytree=1, enable_categorical=False,\n",
      "             gamma=0, gpu_id=-1, importance_type=None,\n",
      "             interaction_constraints='', learning_rate=0.300000012,\n",
      "             max_delta_step=0, max_depth=6, min_child_weight=1, missing=nan,\n",
      "             monotone_constraints='()', n_estimators=100, n_jobs=4,\n",
      "             num_parallel_tree=1, predictor='auto', random_state=0, reg_alpha=0,\n",
      "             reg_lambda=1, scale_pos_weight=1, subsample=1, tree_method='exact',\n",
      "             validate_parameters=1, verbosity=None) \n",
      " mse =  6701.777509742493 ;\n",
      " rms =  81.86438486755088 \n",
      " mae =  23.03480406073399 \n",
      " R2 =  0.9999245887082976\n",
      "\n",
      "Ridge() \n",
      " mse =  30991.356659782894 ;\n",
      " rms =  176.04362146860902 \n",
      " mae =  46.778941316141754 \n",
      " R2 =  0.9996512718851189\n",
      "\n",
      "RandomForestRegressor() \n",
      " mse =  1588.6068972377434 ;\n",
      " rms =  39.85733178773691 \n",
      " mae =  8.10375614481921 \n",
      " R2 =  0.9999821243098634\n",
      "\n"
     ]
    }
   ],
   "source": [
    "Mae = []\n",
    "Alg = []\n",
    "Mse = []\n",
    "Rms = []\n",
    "for  x in alg:\n",
    "    x.fit(X_train, Y_train)\n",
    "    pred = x.predict(X_test)\n",
    "    \n",
    "# convert scaller to normal (inverse scalling)\n",
    "\n",
    "    if len(pred.shape) ==1:\n",
    "        p = (np.array([pred]).T)\n",
    "\n",
    "        pr = scaler_y.inverse_transform(p)\n",
    "        y_t = scaler_y.inverse_transform(Y_test)\n",
    "        mse = mean_squared_error(y_t, pr)\n",
    "        rms = np.sqrt(mse)\n",
    "        mae = mean_absolute_error(y_t, pr)\n",
    "        r2 = r2_score(y_t, pr)\n",
    "    else:\n",
    "        pr = scaler_y.inverse_transform(pred)\n",
    "        y_t = scaler_y.inverse_transform(Y_test)\n",
    "        mse = mean_squared_error(y_t, pr)\n",
    "        rms = np.sqrt(mse)\n",
    "        mae = mean_absolute_error(y_t, pr)\n",
    "        r2 = r2_score(y_t, pr)\n",
    "    Mae.append(mae)\n",
    "    Alg.append(x)\n",
    "    Mse.append(mse)\n",
    "    Rms.append(rms)\n",
    "    \n",
    "\n",
    "    print(x,\"\\n mse = \",mse,\";\\n rms = \",rms,\"\\n mae = \", mae, \"\\n R2 = \",r2)\n",
    "    print()\n",
    "\n",
    "\n"
   ]
  },
  {
   "cell_type": "code",
   "execution_count": 38,
   "id": "f62858c5",
   "metadata": {},
   "outputs": [
    {
     "data": {
      "text/html": [
       "<div>\n",
       "<style scoped>\n",
       "    .dataframe tbody tr th:only-of-type {\n",
       "        vertical-align: middle;\n",
       "    }\n",
       "\n",
       "    .dataframe tbody tr th {\n",
       "        vertical-align: top;\n",
       "    }\n",
       "\n",
       "    .dataframe thead th {\n",
       "        text-align: right;\n",
       "    }\n",
       "</style>\n",
       "<table border=\"1\" class=\"dataframe\">\n",
       "  <thead>\n",
       "    <tr style=\"text-align: right;\">\n",
       "      <th></th>\n",
       "      <th>ALG</th>\n",
       "      <th>MAE</th>\n",
       "      <th>RMS</th>\n",
       "      <th>MSE</th>\n",
       "    </tr>\n",
       "  </thead>\n",
       "  <tbody>\n",
       "    <tr>\n",
       "      <th>0</th>\n",
       "      <td>LogR</td>\n",
       "      <td>3.407315525480733</td>\n",
       "      <td>13.02325533075612</td>\n",
       "      <td>169.6051794100677</td>\n",
       "    </tr>\n",
       "    <tr>\n",
       "      <th>1</th>\n",
       "      <td>svr</td>\n",
       "      <td>5442.573518031421</td>\n",
       "      <td>5660.704228188391</td>\n",
       "      <td>32043572.35902993</td>\n",
       "    </tr>\n",
       "    <tr>\n",
       "      <th>2</th>\n",
       "      <td>sgdr</td>\n",
       "      <td>287.0502586864981</td>\n",
       "      <td>406.8648711989827</td>\n",
       "      <td>165539.0234157648</td>\n",
       "    </tr>\n",
       "    <tr>\n",
       "      <th>3</th>\n",
       "      <td>lasso</td>\n",
       "      <td>4856.872917291782</td>\n",
       "      <td>9429.844326654988</td>\n",
       "      <td>88921964.02494724</td>\n",
       "    </tr>\n",
       "    <tr>\n",
       "      <th>4</th>\n",
       "      <td>xgbr</td>\n",
       "      <td>23.03480406073399</td>\n",
       "      <td>81.86438486755088</td>\n",
       "      <td>6701.777509742493</td>\n",
       "    </tr>\n",
       "    <tr>\n",
       "      <th>5</th>\n",
       "      <td>ridge</td>\n",
       "      <td>46.778941316141754</td>\n",
       "      <td>176.04362146860902</td>\n",
       "      <td>30991.356659782894</td>\n",
       "    </tr>\n",
       "    <tr>\n",
       "      <th>6</th>\n",
       "      <td>rfr</td>\n",
       "      <td>8.10375614481921</td>\n",
       "      <td>39.85733178773691</td>\n",
       "      <td>1588.6068972377434</td>\n",
       "    </tr>\n",
       "  </tbody>\n",
       "</table>\n",
       "</div>"
      ],
      "text/plain": [
       "     ALG                 MAE                 RMS                 MSE\n",
       "0   LogR   3.407315525480733   13.02325533075612   169.6051794100677\n",
       "1    svr   5442.573518031421   5660.704228188391   32043572.35902993\n",
       "2   sgdr   287.0502586864981   406.8648711989827   165539.0234157648\n",
       "3  lasso   4856.872917291782   9429.844326654988   88921964.02494724\n",
       "4   xgbr   23.03480406073399   81.86438486755088   6701.777509742493\n",
       "5  ridge  46.778941316141754  176.04362146860902  30991.356659782894\n",
       "6    rfr    8.10375614481921   39.85733178773691  1588.6068972377434"
      ]
     },
     "execution_count": 38,
     "metadata": {},
     "output_type": "execute_result"
    }
   ],
   "source": [
    "name = [\"LogR\", \"svr\", \"sgdr\", \"lasso\", 'xgbr', 'ridge','rfr']\n",
    "Error = pd.DataFrame(np.array([name,Mae,Rms, Mse]).T,columns =[\"ALG\",\"MAE\",\"RMS\",\"MSE\"])\n",
    "#b = pd.DataFrame(a, columns = )\n",
    "Error"
   ]
  },
  {
   "cell_type": "code",
   "execution_count": 39,
   "id": "29d6dcb2",
   "metadata": {},
   "outputs": [
    {
     "data": {
      "text/plain": [
       "<AxesSubplot:xlabel='count', ylabel='MAE'>"
      ]
     },
     "execution_count": 39,
     "metadata": {},
     "output_type": "execute_result"
    },
    {
     "data": {
      "image/png": "[encoded data removed]",
      "text/plain": [
       "<Figure size 432x288 with 1 Axes>"
      ]
     },
     "metadata": {
      "needs_background": "light"
     },
     "output_type": "display_data"
    }
   ],
   "source": [
    "sns.countplot(data =Error , y =\"MAE\", hue = \"ALG\")\n",
    "plt.show()"
   ]
  },
  {
   "cell_type": "markdown",
   "id": "3e551b6b",
   "metadata": {},
   "source": [
    "# Prediction Testiong"
   ]
  },
  {
   "cell_type": "code",
   "execution_count": 40,
   "id": "6b6a860d",
   "metadata": {},
   "outputs": [
    {
     "name": "stdout",
     "output_type": "stream",
     "text": [
      "RandomForestRegressor() \n",
      " mse =  3.717120572121225e-08 ;  rms =  0.00019279835507911432  mse =  5.0442444063643796e-05 R2 =  0.9999980915293532\n",
      "\n"
     ]
    },
    {
     "data": {
      "text/plain": [
       "array([[0.00619157],\n",
       "       [0.00657213],\n",
       "       [0.11445793],\n",
       "       ...,\n",
       "       [0.00816055],\n",
       "       [0.00506585],\n",
       "       [0.00158383]])"
      ]
     },
     "execution_count": 40,
     "metadata": {},
     "output_type": "execute_result"
    }
   ],
   "source": [
    "\n",
    "lr.fit(X_train, Y_train)\n",
    "predictlr = lr.predict(X_test)\n",
    "mse = mean_squared_error(Y_test, predictlr)\n",
    "rms = np.sqrt(mse)\n",
    "mae = mean_absolute_error(Y_test, predictlr)\n",
    "r2 = r2_score(Y_test, predictlr)\n",
    "\n",
    "print(x,\"\\n mse = \",mse,\";  rms = \",rms,\" mse = \", mae, \"R2 = \",r2)\n",
    "print()\n",
    "predictlr"
   ]
  },
  {
   "cell_type": "markdown",
   "id": "d9758db9",
   "metadata": {},
   "source": [
    "actual value form testing dataset"
   ]
  },
  {
   "cell_type": "code",
   "execution_count": 41,
   "id": "db87711e",
   "metadata": {},
   "outputs": [
    {
     "data": {
      "text/plain": [
       "array([[ 418.731995],\n",
       "       [ 446.062012],\n",
       "       [7755.490234],\n",
       "       [  61.302834],\n",
       "       [  15.457432],\n",
       "       [9145.985352],\n",
       "       [  48.136169],\n",
       "       [4863.930176],\n",
       "       [6354.240234],\n",
       "       [ 727.013   ]])"
      ]
     },
     "execution_count": 41,
     "metadata": {},
     "output_type": "execute_result"
    }
   ],
   "source": [
    "yteat = scaler_y.inverse_transform(Y_test)\n",
    "yteat[:10]"
   ]
  },
  {
   "cell_type": "markdown",
   "id": "801f8385",
   "metadata": {},
   "source": [
    "predicted value"
   ]
  },
  {
   "cell_type": "code",
   "execution_count": 42,
   "id": "e16e512d",
   "metadata": {
    "scrolled": true
   },
   "outputs": [
    {
     "data": {
      "text/plain": [
       "array([[ 419.38478749],\n",
       "       [ 445.09113352],\n",
       "       [7732.62406805],\n",
       "       [  60.8044746 ],\n",
       "       [  15.07394675],\n",
       "       [9139.60897212],\n",
       "       [  47.36631164],\n",
       "       [4876.27557252],\n",
       "       [6351.65724871],\n",
       "       [ 727.9890008 ]])"
      ]
     },
     "execution_count": 42,
     "metadata": {},
     "output_type": "execute_result"
    }
   ],
   "source": [
    "yprediction = scaler_y.inverse_transform(predictlr)\n",
    "yprediction[:10]"
   ]
  },
  {
   "cell_type": "markdown",
   "id": "0c333e39",
   "metadata": {},
   "source": [
    "# plot compariton  original vs predicted"
   ]
  },
  {
   "cell_type": "code",
   "execution_count": 76,
   "id": "4fb67089",
   "metadata": {},
   "outputs": [
    {
     "data": {
      "image/png": "[encoded data removed]",
      "text/plain": [
       "<Figure size 1296x720 with 1 Axes>"
      ]
     },
     "metadata": {
      "needs_background": "light"
     },
     "output_type": "display_data"
    }
   ],
   "source": [
    "# taking all btc coins \n",
    "btc = file[file[\"Crypto\"] ==0]\n",
    "# split input output \n",
    "btc_x = btc.iloc[:,:-1]\n",
    "btc_y = btc.iloc[:,-1]\n",
    "\n",
    "# scallling \n",
    "scaler_x.fit(X)\n",
    "btc_x_sc = scaler_x.transform(btc_x)\n",
    "btc_y_sc =scaler_y.transform(btc[[\"Tomorrow_price(USD)\"]])\n",
    "btc_x_sc,btc_y_sc\n",
    "# predictng\n",
    "predictlr_btc = r.predict(btc_x_sc)\n",
    "predictlr_btc\n",
    "# inverse scaling\n",
    "pred_btc = scaler_y.inverse_transform(predictlr_btc)\n",
    "pred_btc\n",
    "# plot comparition \n",
    "plt.figure(figsize = (18,10))\n",
    "original_btc = btc[\"Tomorrow_price(USD)\"]\n",
    "plt.plot(pred_btc,color =\"red\")\n",
    "\n",
    "plt.plot(original_btc,color =\"yellow\")\n",
    "plt.legend(\"Predict\")\n",
    "plt.title(\"yellow : Real value------------red: prediction\")\n",
    "plt.show()"
   ]
  },
  {
   "cell_type": "markdown",
   "id": "a1ac59c6",
   "metadata": {},
   "source": [
    "# best fit line and prediction"
   ]
  },
  {
   "cell_type": "code",
   "execution_count": 77,
   "id": "a0ec972d",
   "metadata": {},
   "outputs": [
    {
     "data": {
      "image/png": "[encoded data removed]",
      "text/plain": [
       "<Figure size 720x720 with 1 Axes>"
      ]
     },
     "metadata": {
      "needs_background": "light"
     },
     "output_type": "display_data"
    }
   ],
   "source": [
    "plt.figure(figsize=(10,10))\n",
    "plt.scatter(original_btc, pred_btc, c='crimson')\n",
    "plt.yscale('log')\n",
    "plt.xscale('log')\n",
    "\n",
    "p1 = max(max(pred_btc), max(original_btc))\n",
    "p2 = min(min(pred_btc), min(original_btc))\n",
    "plt.plot([p1, p2], [p1, p2], 'b-')\n",
    "plt.xlabel('True Values', fontsize=15)\n",
    "plt.ylabel('Predictions', fontsize=15)\n",
    "plt.axis('equal')\n",
    "plt.show()"
   ]
  },
  {
   "cell_type": "code",
   "execution_count": null,
   "id": "2cd11587",
   "metadata": {},
   "outputs": [],
   "source": [
    "import joblib\n",
    "#joblib.dump(lr,\"BTC(Open)_lr_sc.pkl\")"
   ]
  },
  {
   "cell_type": "code",
   "execution_count": null,
   "id": "6085e7c1",
   "metadata": {},
   "outputs": [],
   "source": [
    "z= []\n",
    "for x in (X.columns.unique()):\n",
    "    print(\"Enter \",x, \"value\")\n",
    "    a= input()\n",
    "    z.append(a)"
   ]
  },
  {
   "cell_type": "code",
   "execution_count": null,
   "id": "763b238e",
   "metadata": {},
   "outputs": [],
   "source": [
    "# converting input in to alg \n",
    "A =np.array([z])\n",
    "print(\"Our given input\", A)"
   ]
  },
  {
   "cell_type": "code",
   "execution_count": null,
   "id": "5c4d103b",
   "metadata": {},
   "outputs": [],
   "source": [
    "# our input after scaling\n",
    "test_input = scaler_x.transform(A)\n",
    "test_input"
   ]
  },
  {
   "cell_type": "code",
   "execution_count": null,
   "id": "fb2e1056",
   "metadata": {},
   "outputs": [],
   "source": [
    "pred =lr.predict(test_input)\n",
    "#b = scaler_y.transform(pred)\n",
    "scaler_y.inverse_transform(pred)"
   ]
  },
  {
   "cell_type": "code",
   "execution_count": null,
   "id": "ef8d7c4d",
   "metadata": {},
   "outputs": [],
   "source": []
  },
  {
   "cell_type": "code",
   "execution_count": null,
   "id": "e89a5a81",
   "metadata": {},
   "outputs": [],
   "source": []
  }
 ],
 "metadata": {
  "kernelspec": {
   "display_name": "Python 3",
   "language": "python",
   "name": "python3"
  },
  "language_info": {
   "codemirror_mode": {
    "name": "ipython",
    "version": 3
   },
   "file_extension": ".py",
   "mimetype": "text/x-python",
   "name": "python",
   "nbconvert_exporter": "python",
   "pygments_lexer": "ipython3",
   "version": "3.8.8"
  }
 },
 "nbformat": 4,
 "nbformat_minor": 5
}
